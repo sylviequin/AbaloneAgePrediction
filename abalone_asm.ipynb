{
 "cells": [
  {
   "cell_type": "markdown",
   "id": "522eaa74",
   "metadata": {},
   "source": [
    "# ABALONE REPORT DESCRIPTION\n",
    "Abalone are large slow-growing marine snails. In many parts of the world they are an economically significant fishery as both commercial operations and a traditionally-important food source for many cultures.\n",
    "\n",
    "Abalone are harvested from the wild rather than farmed, and sustainability of a slow-growing resources is an important issue. A key issue is determining the age of a specimen. The rigorous approach is to harvest and dissect the specimen to count growth rings in the flesh. Obviously, a reliable non-fatal means of estimating specimen age is highly desirable.\n",
    "\n",
    "This dataset, provided as abalone_growth_data.csv, collects a large number of measurements on around 4000 harvested specimens and can be used to identify reliable predictors of the sample age.\n",
    "\n",
    "As well as the spatial dimensions of the shell, the quantities provided include the whole weight, the shucked weight (ie. the mass of the flesh that is eaten), the shell weight, and the viscera weight (the non-edible organs that are discarded)\n"
   ]
  },
  {
   "cell_type": "code",
   "execution_count": 5,
   "id": "a260815d",
   "metadata": {},
   "outputs": [],
   "source": [
    "# Library loading\n",
    "import pandas as pd\n",
    "import numpy as np\n",
    "import matplotlib.pyplot as plt"
   ]
  },
  {
   "cell_type": "markdown",
   "id": "72c27451",
   "metadata": {},
   "source": [
    "## TASK 1: Initial loading [5 marks]\n",
    "a. Download one of the datasets, and write code to read in the data to a Pandas DataFrame\n",
    "\n",
    "b. Write code to print out the column headings provided in the datasets"
   ]
  },
  {
   "cell_type": "code",
   "execution_count": 6,
   "id": "44992289",
   "metadata": {},
   "outputs": [
    {
     "name": "stdout",
     "output_type": "stream",
     "text": [
      "columns of the dataset:\n"
     ]
    },
    {
     "data": {
      "text/plain": [
       "Index(['Sex', 'Length (mm)', 'Diameter (mm)', 'Height (mm)',\n",
       "       'Whole weight (g)', 'Shucked weight (g)', 'Viscera weight (g)',\n",
       "       'Shell weight (g)', 'Rings', 'Age (y)'],\n",
       "      dtype='object')"
      ]
     },
     "metadata": {},
     "output_type": "display_data"
    }
   ],
   "source": [
    "# Loading the data file\n",
    "marine_df = pd.read_csv('abalone_growth.csv')\n",
    "\n",
    "# Column heading in the dataset\n",
    "print('columns of the dataset:')\n",
    "display(marine_df.columns)\n"
   ]
  },
  {
   "cell_type": "code",
   "execution_count": 7,
   "id": "eaff2b2e",
   "metadata": {},
   "outputs": [
    {
     "name": "stdout",
     "output_type": "stream",
     "text": [
      "Shape of the dataset:\n"
     ]
    },
    {
     "data": {
      "text/plain": [
       "(4177, 10)"
      ]
     },
     "metadata": {},
     "output_type": "display_data"
    }
   ],
   "source": [
    "# Get insight about the dataset \n",
    "print('Shape of the dataset:')\n",
    "display(marine_df.shape)\n",
    "# It means the dataset has total 4041 observation \n",
    "# after handling missing values and 10 attributes for each observation."
   ]
  },
  {
   "cell_type": "code",
   "execution_count": 8,
   "id": "4e69128e",
   "metadata": {},
   "outputs": [
    {
     "name": "stdout",
     "output_type": "stream",
     "text": [
      "Info of the dataset:\n",
      "<class 'pandas.core.frame.DataFrame'>\n",
      "RangeIndex: 4177 entries, 0 to 4176\n",
      "Data columns (total 10 columns):\n",
      " #   Column              Non-Null Count  Dtype  \n",
      "---  ------              --------------  -----  \n",
      " 0   Sex                 4177 non-null   object \n",
      " 1   Length (mm)         4136 non-null   float64\n",
      " 2   Diameter (mm)       4135 non-null   float64\n",
      " 3   Height (mm)         4122 non-null   float64\n",
      " 4   Whole weight (g)    4141 non-null   float64\n",
      " 5   Shucked weight (g)  4141 non-null   float64\n",
      " 6   Viscera weight (g)  4129 non-null   float64\n",
      " 7   Shell weight (g)    4138 non-null   float64\n",
      " 8   Rings               4133 non-null   float64\n",
      " 9   Age (y)             4131 non-null   float64\n",
      "dtypes: float64(9), object(1)\n",
      "memory usage: 326.5+ KB\n"
     ]
    },
    {
     "data": {
      "text/plain": [
       "None"
      ]
     },
     "metadata": {},
     "output_type": "display_data"
    }
   ],
   "source": [
    "# Information about dataset \n",
    "print('Info of the dataset:')\n",
    "display(marine_df.info())"
   ]
  },
  {
   "cell_type": "markdown",
   "id": "fd716b26",
   "metadata": {},
   "source": [
    "**Overview**\n",
    "\n",
    "All the attributes are <span style='color: lightcoral'> numerical values </span>, apart from \"Sex\" attributes.\n",
    "The Abalone dataset provides a wealth of information that can lead to valuable insights regarding the physical characteristics and age estimation of abalones.\n",
    "\n",
    "**Dataset Structure**\n",
    "\n",
    "The dataset consists of `4,177 entries` and `9 columns`, which include both `categorical and continuous` variables.\n",
    "Physical Measurements\n",
    "\n",
    "**The physical measurements** \n",
    "\n",
    "<span style='color: lightcoral'> Length, Diameter, Height, Whole Weight, Shucked Weight, Viscera Weight, Shell Weight </span>: are all continuous variables that can significantly influence the age estimation of abalones.\n",
    "\n",
    "\n",
    "**Missing Values and Data Quality**\n",
    "\n",
    "The dataset appears to have some missing value and non-sensical values across all columns, which is neccesary for cleaning data analysis steps as it ensures data integrity and reliability."
   ]
  },
  {
   "cell_type": "markdown",
   "id": "04d7754f",
   "metadata": {},
   "source": [
    "## TASK 2: Data cleaning [5 marks]\n",
    "a. Unfortunately, all the datasets have been damaged and contain missing, nonsensical, or NaN fields. Write code to look for any problems with the data and remove problematic entries\n",
    "\n",
    "b. In your report.pdf file, add a section named “Data Cleaning” which describes what data cleaning you have done, and what other cleaning might be possible"
   ]
  },
  {
   "cell_type": "markdown",
   "id": "21ae2fd3",
   "metadata": {},
   "source": [
    "### Step 1: Handling missing value "
   ]
  },
  {
   "cell_type": "code",
   "execution_count": 9,
   "id": "ab31c077",
   "metadata": {},
   "outputs": [
    {
     "data": {
      "application/vnd.microsoft.datawrangler.viewer.v0+json": {
       "columns": [
        {
         "name": "index",
         "rawType": "object",
         "type": "string"
        },
        {
         "name": "0",
         "rawType": "int64",
         "type": "integer"
        }
       ],
       "ref": "187ba308-2cf4-43c9-8b80-a688f8ffbafa",
       "rows": [
        [
         "Sex",
         "0"
        ],
        [
         "Length (mm)",
         "41"
        ],
        [
         "Diameter (mm)",
         "42"
        ],
        [
         "Height (mm)",
         "55"
        ],
        [
         "Whole weight (g)",
         "36"
        ],
        [
         "Shucked weight (g)",
         "36"
        ],
        [
         "Viscera weight (g)",
         "48"
        ],
        [
         "Shell weight (g)",
         "39"
        ],
        [
         "Rings",
         "44"
        ],
        [
         "Age (y)",
         "46"
        ]
       ],
       "shape": {
        "columns": 1,
        "rows": 10
       }
      },
      "text/plain": [
       "Sex                    0\n",
       "Length (mm)           41\n",
       "Diameter (mm)         42\n",
       "Height (mm)           55\n",
       "Whole weight (g)      36\n",
       "Shucked weight (g)    36\n",
       "Viscera weight (g)    48\n",
       "Shell weight (g)      39\n",
       "Rings                 44\n",
       "Age (y)               46\n",
       "dtype: int64"
      ]
     },
     "execution_count": 9,
     "metadata": {},
     "output_type": "execute_result"
    }
   ],
   "source": [
    "#check if missing value is existing in individual columns\n",
    "marine_df.isnull().sum()"
   ]
  },
  {
   "cell_type": "code",
   "execution_count": 10,
   "id": "3d725f97",
   "metadata": {},
   "outputs": [
    {
     "data": {
      "application/vnd.microsoft.datawrangler.viewer.v0+json": {
       "columns": [
        {
         "name": "index",
         "rawType": "object",
         "type": "string"
        },
        {
         "name": "0",
         "rawType": "int64",
         "type": "integer"
        }
       ],
       "ref": "a38f30e0-b313-4a11-a4c9-4ab52bb5fc6b",
       "rows": [
        [
         "Sex",
         "4177"
        ],
        [
         "Length (mm)",
         "4136"
        ],
        [
         "Diameter (mm)",
         "4135"
        ],
        [
         "Height (mm)",
         "4122"
        ],
        [
         "Whole weight (g)",
         "4141"
        ],
        [
         "Shucked weight (g)",
         "4141"
        ],
        [
         "Viscera weight (g)",
         "4129"
        ],
        [
         "Shell weight (g)",
         "4138"
        ],
        [
         "Rings",
         "4133"
        ],
        [
         "Age (y)",
         "4131"
        ]
       ],
       "shape": {
        "columns": 1,
        "rows": 10
       }
      },
      "text/plain": [
       "Sex                   4177\n",
       "Length (mm)           4136\n",
       "Diameter (mm)         4135\n",
       "Height (mm)           4122\n",
       "Whole weight (g)      4141\n",
       "Shucked weight (g)    4141\n",
       "Viscera weight (g)    4129\n",
       "Shell weight (g)      4138\n",
       "Rings                 4133\n",
       "Age (y)               4131\n",
       "dtype: int64"
      ]
     },
     "execution_count": 10,
     "metadata": {},
     "output_type": "execute_result"
    }
   ],
   "source": [
    "#check total value for each individual columns\n",
    "marine_df.count()"
   ]
  },
  {
   "cell_type": "markdown",
   "id": "a546f4b0",
   "metadata": {},
   "source": [
    "Obseving that certain columns (such as Length (mm), Diameter (mm), Height (mm)) contain `approximately 1% or fewer missing values`. Upon further checking of the distribution of these columns, it becomes apparent that the data is considerably skewed, either to the right or left. Given that the total proportion of missing values is relatively low, I am considering the removal of rows with missing values in these columns to <span style='color: #0e6655'> maintain the integrity </span> of the dataset and <span style='color: #0e6655'> minimize potential distortions </span>."
   ]
  },
  {
   "cell_type": "markdown",
   "id": "0f1fa496",
   "metadata": {},
   "source": [
    "Usually, we're looking for <Median> instead of <Mean> causes Mean affected too heavily by outliers => Not a good metrics to analyze and gain a valuable insight. \n",
    "\n",
    "[Save for numerical analysis]"
   ]
  },
  {
   "cell_type": "code",
   "execution_count": 11,
   "id": "6030d8c4",
   "metadata": {},
   "outputs": [
    {
     "name": "stdout",
     "output_type": "stream",
     "text": [
      "Total of NA:\n",
      " Sex                    0\n",
      "Length (mm)            0\n",
      "Diameter (mm)          0\n",
      "Height (mm)            0\n",
      "Whole weight (g)      34\n",
      "Shucked weight (g)    36\n",
      "Viscera weight (g)    48\n",
      "Shell weight (g)      38\n",
      "Rings                 43\n",
      "Age (y)               44\n",
      "dtype: int64\n"
     ]
    }
   ],
   "source": [
    "# Drop columns whose missing values is less than 1%\n",
    "marine_df.dropna(\n",
    "    axis= 'index', \n",
    "    how= 'any', \n",
    "    subset= ['Length (mm)', 'Diameter (mm)', 'Height (mm)'], \n",
    "    inplace= True\n",
    ")\n",
    "\n",
    "# Check total of NA after dropping\n",
    "print('Total of NA:\\n',marine_df.isnull().sum())\n"
   ]
  },
  {
   "cell_type": "markdown",
   "id": "17b3c7d3",
   "metadata": {},
   "source": [
    "For the rest of missing value, we considered to replace them with the average value"
   ]
  },
  {
   "cell_type": "code",
   "execution_count": 12,
   "id": "596ac6ee",
   "metadata": {},
   "outputs": [
    {
     "data": {
      "application/vnd.microsoft.datawrangler.viewer.v0+json": {
       "columns": [
        {
         "name": "index",
         "rawType": "object",
         "type": "string"
        },
        {
         "name": "0",
         "rawType": "int64",
         "type": "integer"
        }
       ],
       "ref": "7f7460ed-8bd4-4ccf-acca-a0bfb3a7338e",
       "rows": [
        [
         "Sex",
         "0"
        ],
        [
         "Length (mm)",
         "0"
        ],
        [
         "Diameter (mm)",
         "0"
        ],
        [
         "Height (mm)",
         "0"
        ],
        [
         "Whole weight (g)",
         "0"
        ],
        [
         "Shucked weight (g)",
         "0"
        ],
        [
         "Viscera weight (g)",
         "0"
        ],
        [
         "Shell weight (g)",
         "0"
        ],
        [
         "Rings",
         "0"
        ],
        [
         "Age (y)",
         "0"
        ]
       ],
       "shape": {
        "columns": 1,
        "rows": 10
       }
      },
      "text/plain": [
       "Sex                   0\n",
       "Length (mm)           0\n",
       "Diameter (mm)         0\n",
       "Height (mm)           0\n",
       "Whole weight (g)      0\n",
       "Shucked weight (g)    0\n",
       "Viscera weight (g)    0\n",
       "Shell weight (g)      0\n",
       "Rings                 0\n",
       "Age (y)               0\n",
       "dtype: int64"
      ]
     },
     "execution_count": 12,
     "metadata": {},
     "output_type": "execute_result"
    }
   ],
   "source": [
    "# Fill NA with average for each column\n",
    "cols_to_fill = [\n",
    "    'Height (mm)', 'Whole weight (g)',\n",
    "    'Shucked weight (g)', 'Viscera weight (g)', \n",
    "    'Shell weight (g)', 'Rings', 'Age (y)'\n",
    "]\n",
    "\n",
    "marine_df[cols_to_fill] = marine_df[cols_to_fill].fillna(\n",
    "    marine_df[cols_to_fill].mean()\n",
    ")\n",
    "\n",
    "#check missing value again\n",
    "marine_df.isnull().sum()\n"
   ]
  },
  {
   "cell_type": "code",
   "execution_count": 13,
   "id": "f0cb003b",
   "metadata": {},
   "outputs": [
    {
     "data": {
      "application/vnd.microsoft.datawrangler.viewer.v0+json": {
       "columns": [
        {
         "name": "index",
         "rawType": "int64",
         "type": "integer"
        },
        {
         "name": "Sex",
         "rawType": "object",
         "type": "string"
        },
        {
         "name": "Length (mm)",
         "rawType": "float64",
         "type": "float"
        },
        {
         "name": "Diameter (mm)",
         "rawType": "float64",
         "type": "float"
        },
        {
         "name": "Height (mm)",
         "rawType": "float64",
         "type": "float"
        },
        {
         "name": "Whole weight (g)",
         "rawType": "float64",
         "type": "float"
        },
        {
         "name": "Shucked weight (g)",
         "rawType": "float64",
         "type": "float"
        },
        {
         "name": "Viscera weight (g)",
         "rawType": "float64",
         "type": "float"
        },
        {
         "name": "Shell weight (g)",
         "rawType": "float64",
         "type": "float"
        },
        {
         "name": "Rings",
         "rawType": "float64",
         "type": "float"
        },
        {
         "name": "Age (y)",
         "rawType": "float64",
         "type": "float"
        }
       ],
       "ref": "e4072eb0-b666-47bd-968e-ab32f78bf182",
       "rows": [
        [
         "1",
         "M",
         "0.35",
         "0.265",
         "0.09",
         "0.2255",
         "0.0995",
         "0.0485",
         "0.07",
         "7.0",
         "8.5"
        ],
        [
         "2",
         "F",
         "0.53",
         "0.42",
         "0.135",
         "0.677",
         "0.2565",
         "-0.1415",
         "0.21",
         "9.0",
         "10.5"
        ],
        [
         "3",
         "M",
         "0.44",
         "0.365",
         "0.125",
         "0.516",
         "0.2155",
         "0.114",
         "0.155",
         "10.0",
         "11.5"
        ],
        [
         "4",
         "I",
         "0.33",
         "0.255",
         "0.08",
         "0.205",
         "0.0895",
         "0.0395",
         "0.055",
         "7.0",
         "8.5"
        ],
        [
         "5",
         "I",
         "0.425",
         "0.3",
         "0.095",
         "0.3515",
         "0.141",
         "0.0775",
         "0.12",
         "8.0",
         "9.5"
        ],
        [
         "6",
         "F",
         "0.53",
         "0.415",
         "0.15",
         "0.7775",
         "0.237",
         "0.1415",
         "0.33",
         "20.0",
         "21.5"
        ],
        [
         "7",
         "F",
         "0.545",
         "0.425",
         "0.125",
         "0.768",
         "0.294",
         "0.1495",
         "0.26",
         "16.0",
         "17.5"
        ],
        [
         "8",
         "M",
         "0.475",
         "0.37",
         "0.125",
         "0.5095",
         "0.2165",
         "0.1125",
         "0.165",
         "9.0",
         "10.5"
        ],
        [
         "9",
         "F",
         "0.55",
         "0.44",
         "0.15",
         "0.8945",
         "0.3145",
         "0.151",
         "0.32",
         "19.0",
         "20.5"
        ],
        [
         "10",
         "F",
         "0.525",
         "0.38",
         "0.14",
         "0.6065",
         "0.194",
         "0.1475",
         "0.21",
         "14.0",
         "15.5"
        ],
        [
         "11",
         "M",
         "0.43",
         "0.35",
         "0.11",
         "0.406",
         "0.1675",
         "0.081",
         "0.135",
         "10.0",
         "11.5"
        ],
        [
         "12",
         "M",
         "0.49",
         "0.38",
         "0.135",
         "0.5415",
         "0.2175",
         "0.095",
         "0.19",
         "11.0",
         "12.5"
        ],
        [
         "13",
         "F",
         "0.535",
         "0.405",
         "0.145",
         "0.6845",
         "0.2725",
         "0.171",
         "0.205",
         "10.0",
         "11.5"
        ],
        [
         "15",
         "M",
         "0.5",
         "0.4",
         "0.13",
         "0.6645",
         "0.258",
         "0.133",
         "0.24",
         "12.0",
         "13.5"
        ],
        [
         "16",
         "I",
         "0.355",
         "0.28",
         "0.085",
         "0.2905",
         "0.095",
         "0.0395",
         "0.115",
         "7.0",
         "8.5"
        ],
        [
         "17",
         "F",
         "0.44",
         "0.34",
         "0.1",
         "0.451",
         "0.188",
         "0.087",
         "0.13",
         "10.0",
         "11.5"
        ],
        [
         "18",
         "M",
         "-0.365",
         "0.295",
         "0.08",
         "0.2555",
         "0.097",
         "0.043",
         "0.1",
         "7.0",
         "8.5"
        ],
        [
         "19",
         "M",
         "0.45",
         "0.32",
         "0.1",
         "0.381",
         "0.1705",
         "0.075",
         "0.115",
         "9.0",
         "10.5"
        ],
        [
         "20",
         "M",
         "0.355",
         "0.28",
         "0.095",
         "0.2455",
         "0.0955",
         "0.062",
         "0.075",
         "11.0",
         "12.5"
        ],
        [
         "21",
         "I",
         "0.38",
         "0.275",
         "0.1",
         "0.2255",
         "0.08",
         "0.049",
         "0.085",
         "10.0",
         "11.5"
        ],
        [
         "22",
         "F",
         "0.565",
         "0.44",
         "0.155",
         "0.9395",
         "0.4275",
         "0.214",
         "0.27",
         "12.0",
         "13.5"
        ],
        [
         "23",
         "F",
         "0.55",
         "0.415",
         "0.135",
         "0.7635",
         "0.318",
         "0.21",
         "0.2",
         "9.0",
         "10.5"
        ],
        [
         "24",
         "F",
         "0.615",
         "0.48",
         "0.165",
         "1.1615",
         "0.513",
         "0.301",
         "0.305",
         "10.0",
         "11.5"
        ],
        [
         "25",
         "F",
         "0.56",
         "0.44",
         "0.14",
         "0.9285",
         "0.3825",
         "0.188",
         "0.3",
         "11.0",
         "12.5"
        ],
        [
         "26",
         "F",
         "0.58",
         "0.45",
         "0.185",
         "0.9955",
         "0.3945",
         "0.272",
         "0.285",
         "11.0",
         "12.5"
        ],
        [
         "27",
         "M",
         "0.59",
         "0.445",
         "0.14",
         "0.931",
         "0.356",
         "0.234",
         "0.28",
         "12.0",
         "13.5"
        ],
        [
         "28",
         "M",
         "0.605",
         "0.475",
         "0.18",
         "0.9365",
         "0.394",
         "0.219",
         "0.295",
         "15.0",
         "16.5"
        ],
        [
         "29",
         "M",
         "0.575",
         "0.425",
         "0.14",
         "0.8635",
         "0.393",
         "0.227",
         "0.2",
         "11.0",
         "12.5"
        ],
        [
         "30",
         "M",
         "0.58",
         "0.47",
         "0.165",
         "0.9975",
         "0.3935",
         "0.242",
         "0.33",
         "10.0",
         "11.5"
        ],
        [
         "31",
         "F",
         "0.68",
         "0.56",
         "0.165",
         "1.639",
         "0.6055",
         "0.2805",
         "0.46",
         "15.0",
         "16.5"
        ],
        [
         "32",
         "M",
         "0.665",
         "0.525",
         "0.165",
         "1.338",
         "0.5515",
         "0.3575",
         "0.35",
         "18.0",
         "19.5"
        ],
        [
         "33",
         "F",
         "0.68",
         "0.55",
         "0.175",
         "1.798",
         "0.815",
         "0.3925",
         "0.455",
         "19.0",
         "20.5"
        ],
        [
         "34",
         "F",
         "0.705",
         "0.55",
         "0.2",
         "1.7095",
         "0.633",
         "0.4115",
         "0.49",
         "13.0",
         "14.5"
        ],
        [
         "35",
         "M",
         "0.465",
         "0.355",
         "0.105",
         "0.4795",
         "0.227",
         "0.124",
         "0.125",
         "8.0",
         "9.5"
        ],
        [
         "36",
         "F",
         "0.54",
         "0.475",
         "0.155",
         "1.217",
         "0.5305",
         "0.3075",
         "0.34",
         "16.0",
         "17.5"
        ],
        [
         "37",
         "F",
         "0.45",
         "0.355",
         "0.105",
         "0.5225",
         "0.237",
         "0.1165",
         "0.145",
         "8.0",
         "9.5"
        ],
        [
         "38",
         "F",
         "0.575",
         "0.445",
         "0.135",
         "0.883",
         "0.381",
         "0.2035",
         "0.26",
         "11.0",
         "12.5"
        ],
        [
         "39",
         "M",
         "0.355",
         "0.29",
         "0.09",
         "0.3275",
         "0.134",
         "-0.086",
         "0.09",
         "9.0",
         "10.5"
        ],
        [
         "40",
         "F",
         "0.45",
         "0.335",
         "0.105",
         "0.425",
         "0.1865",
         "0.091",
         "0.115",
         "9.0",
         "10.5"
        ],
        [
         "41",
         "F",
         "0.55",
         "0.425",
         "0.135",
         "0.8515",
         "0.362",
         "0.196",
         "0.27",
         "14.0",
         "15.5"
        ],
        [
         "42",
         "I",
         "0.24",
         "0.175",
         "0.045",
         "0.07",
         "0.0315",
         "0.0235",
         "0.02",
         "5.0",
         "6.5"
        ],
        [
         "43",
         "I",
         "0.205",
         "0.15",
         "0.055",
         "0.042",
         "0.0255",
         "0.015",
         "0.012",
         "5.0",
         "6.5"
        ],
        [
         "44",
         "I",
         "0.21",
         "0.15",
         "0.05",
         "0.042",
         "0.0175",
         "0.0125",
         "0.015",
         "4.0",
         "5.5"
        ],
        [
         "45",
         "I",
         "0.39",
         "0.295",
         "0.095",
         "0.203",
         "0.0875",
         "0.045",
         "0.075",
         "7.0",
         "8.5"
        ],
        [
         "46",
         "M",
         "0.47",
         "0.37",
         "0.12",
         "0.5795",
         "0.293",
         "0.227",
         "0.14",
         "9.0",
         "10.5"
        ],
        [
         "47",
         "F",
         "0.46",
         "0.375",
         "0.12",
         "0.4605",
         "0.1775",
         "0.11",
         "0.15",
         "7.0",
         "8.5"
        ],
        [
         "48",
         "I",
         "0.325",
         "0.245",
         "0.07",
         "0.161",
         "0.0755",
         "0.0255",
         "0.23316325256057954",
         "6.0",
         "7.5"
        ],
        [
         "49",
         "F",
         "0.525",
         "0.425",
         "0.16",
         "0.8355",
         "0.3545",
         "0.2135",
         "-0.245",
         "9.0",
         "10.5"
        ],
        [
         "50",
         "I",
         "0.52",
         "0.41",
         "0.12",
         "0.595",
         "0.2385",
         "0.111",
         "0.19",
         "8.0",
         "9.5"
        ],
        [
         "51",
         "M",
         "0.4",
         "0.32",
         "0.095",
         "0.303",
         "0.1335",
         "0.06",
         "-0.1",
         "7.0",
         "8.5"
        ]
       ],
       "shape": {
        "columns": 10,
        "rows": 4041
       }
      },
      "text/html": [
       "<div>\n",
       "<style scoped>\n",
       "    .dataframe tbody tr th:only-of-type {\n",
       "        vertical-align: middle;\n",
       "    }\n",
       "\n",
       "    .dataframe tbody tr th {\n",
       "        vertical-align: top;\n",
       "    }\n",
       "\n",
       "    .dataframe thead th {\n",
       "        text-align: right;\n",
       "    }\n",
       "</style>\n",
       "<table border=\"1\" class=\"dataframe\">\n",
       "  <thead>\n",
       "    <tr style=\"text-align: right;\">\n",
       "      <th></th>\n",
       "      <th>Sex</th>\n",
       "      <th>Length (mm)</th>\n",
       "      <th>Diameter (mm)</th>\n",
       "      <th>Height (mm)</th>\n",
       "      <th>Whole weight (g)</th>\n",
       "      <th>Shucked weight (g)</th>\n",
       "      <th>Viscera weight (g)</th>\n",
       "      <th>Shell weight (g)</th>\n",
       "      <th>Rings</th>\n",
       "      <th>Age (y)</th>\n",
       "    </tr>\n",
       "  </thead>\n",
       "  <tbody>\n",
       "    <tr>\n",
       "      <th>1</th>\n",
       "      <td>M</td>\n",
       "      <td>0.350</td>\n",
       "      <td>0.265</td>\n",
       "      <td>0.090</td>\n",
       "      <td>0.2255</td>\n",
       "      <td>0.0995</td>\n",
       "      <td>0.0485</td>\n",
       "      <td>0.0700</td>\n",
       "      <td>7.000000</td>\n",
       "      <td>8.5</td>\n",
       "    </tr>\n",
       "    <tr>\n",
       "      <th>2</th>\n",
       "      <td>F</td>\n",
       "      <td>0.530</td>\n",
       "      <td>0.420</td>\n",
       "      <td>0.135</td>\n",
       "      <td>0.6770</td>\n",
       "      <td>0.2565</td>\n",
       "      <td>-0.1415</td>\n",
       "      <td>0.2100</td>\n",
       "      <td>9.000000</td>\n",
       "      <td>10.5</td>\n",
       "    </tr>\n",
       "    <tr>\n",
       "      <th>3</th>\n",
       "      <td>M</td>\n",
       "      <td>0.440</td>\n",
       "      <td>0.365</td>\n",
       "      <td>0.125</td>\n",
       "      <td>0.5160</td>\n",
       "      <td>0.2155</td>\n",
       "      <td>0.1140</td>\n",
       "      <td>0.1550</td>\n",
       "      <td>10.000000</td>\n",
       "      <td>11.5</td>\n",
       "    </tr>\n",
       "    <tr>\n",
       "      <th>4</th>\n",
       "      <td>I</td>\n",
       "      <td>0.330</td>\n",
       "      <td>0.255</td>\n",
       "      <td>0.080</td>\n",
       "      <td>0.2050</td>\n",
       "      <td>0.0895</td>\n",
       "      <td>0.0395</td>\n",
       "      <td>0.0550</td>\n",
       "      <td>7.000000</td>\n",
       "      <td>8.5</td>\n",
       "    </tr>\n",
       "    <tr>\n",
       "      <th>5</th>\n",
       "      <td>I</td>\n",
       "      <td>0.425</td>\n",
       "      <td>0.300</td>\n",
       "      <td>0.095</td>\n",
       "      <td>0.3515</td>\n",
       "      <td>0.1410</td>\n",
       "      <td>0.0775</td>\n",
       "      <td>0.1200</td>\n",
       "      <td>8.000000</td>\n",
       "      <td>9.5</td>\n",
       "    </tr>\n",
       "    <tr>\n",
       "      <th>...</th>\n",
       "      <td>...</td>\n",
       "      <td>...</td>\n",
       "      <td>...</td>\n",
       "      <td>...</td>\n",
       "      <td>...</td>\n",
       "      <td>...</td>\n",
       "      <td>...</td>\n",
       "      <td>...</td>\n",
       "      <td>...</td>\n",
       "      <td>...</td>\n",
       "    </tr>\n",
       "    <tr>\n",
       "      <th>4171</th>\n",
       "      <td>M</td>\n",
       "      <td>0.560</td>\n",
       "      <td>0.430</td>\n",
       "      <td>0.155</td>\n",
       "      <td>0.8675</td>\n",
       "      <td>0.4000</td>\n",
       "      <td>0.1720</td>\n",
       "      <td>0.2290</td>\n",
       "      <td>8.000000</td>\n",
       "      <td>9.5</td>\n",
       "    </tr>\n",
       "    <tr>\n",
       "      <th>4173</th>\n",
       "      <td>M</td>\n",
       "      <td>0.590</td>\n",
       "      <td>0.440</td>\n",
       "      <td>0.135</td>\n",
       "      <td>0.9660</td>\n",
       "      <td>0.4390</td>\n",
       "      <td>0.2145</td>\n",
       "      <td>0.2605</td>\n",
       "      <td>10.000000</td>\n",
       "      <td>11.5</td>\n",
       "    </tr>\n",
       "    <tr>\n",
       "      <th>4174</th>\n",
       "      <td>M</td>\n",
       "      <td>0.600</td>\n",
       "      <td>0.475</td>\n",
       "      <td>0.205</td>\n",
       "      <td>1.1760</td>\n",
       "      <td>0.5255</td>\n",
       "      <td>0.2875</td>\n",
       "      <td>0.3080</td>\n",
       "      <td>9.000000</td>\n",
       "      <td>10.5</td>\n",
       "    </tr>\n",
       "    <tr>\n",
       "      <th>4175</th>\n",
       "      <td>F</td>\n",
       "      <td>0.625</td>\n",
       "      <td>0.485</td>\n",
       "      <td>0.150</td>\n",
       "      <td>1.0945</td>\n",
       "      <td>0.5310</td>\n",
       "      <td>0.2610</td>\n",
       "      <td>0.2960</td>\n",
       "      <td>10.000000</td>\n",
       "      <td>11.5</td>\n",
       "    </tr>\n",
       "    <tr>\n",
       "      <th>4176</th>\n",
       "      <td>M</td>\n",
       "      <td>0.710</td>\n",
       "      <td>0.555</td>\n",
       "      <td>0.195</td>\n",
       "      <td>1.9485</td>\n",
       "      <td>0.9455</td>\n",
       "      <td>0.3765</td>\n",
       "      <td>0.4950</td>\n",
       "      <td>9.733867</td>\n",
       "      <td>13.5</td>\n",
       "    </tr>\n",
       "  </tbody>\n",
       "</table>\n",
       "<p>4041 rows × 10 columns</p>\n",
       "</div>"
      ],
      "text/plain": [
       "     Sex  Length (mm)  Diameter (mm)  Height (mm)  Whole weight (g)  \\\n",
       "1      M        0.350          0.265        0.090            0.2255   \n",
       "2      F        0.530          0.420        0.135            0.6770   \n",
       "3      M        0.440          0.365        0.125            0.5160   \n",
       "4      I        0.330          0.255        0.080            0.2050   \n",
       "5      I        0.425          0.300        0.095            0.3515   \n",
       "...   ..          ...            ...          ...               ...   \n",
       "4171   M        0.560          0.430        0.155            0.8675   \n",
       "4173   M        0.590          0.440        0.135            0.9660   \n",
       "4174   M        0.600          0.475        0.205            1.1760   \n",
       "4175   F        0.625          0.485        0.150            1.0945   \n",
       "4176   M        0.710          0.555        0.195            1.9485   \n",
       "\n",
       "      Shucked weight (g)  Viscera weight (g)  Shell weight (g)      Rings  \\\n",
       "1                 0.0995              0.0485            0.0700   7.000000   \n",
       "2                 0.2565             -0.1415            0.2100   9.000000   \n",
       "3                 0.2155              0.1140            0.1550  10.000000   \n",
       "4                 0.0895              0.0395            0.0550   7.000000   \n",
       "5                 0.1410              0.0775            0.1200   8.000000   \n",
       "...                  ...                 ...               ...        ...   \n",
       "4171              0.4000              0.1720            0.2290   8.000000   \n",
       "4173              0.4390              0.2145            0.2605  10.000000   \n",
       "4174              0.5255              0.2875            0.3080   9.000000   \n",
       "4175              0.5310              0.2610            0.2960  10.000000   \n",
       "4176              0.9455              0.3765            0.4950   9.733867   \n",
       "\n",
       "      Age (y)  \n",
       "1         8.5  \n",
       "2        10.5  \n",
       "3        11.5  \n",
       "4         8.5  \n",
       "5         9.5  \n",
       "...       ...  \n",
       "4171      9.5  \n",
       "4173     11.5  \n",
       "4174     10.5  \n",
       "4175     11.5  \n",
       "4176     13.5  \n",
       "\n",
       "[4041 rows x 10 columns]"
      ]
     },
     "execution_count": 13,
     "metadata": {},
     "output_type": "execute_result"
    }
   ],
   "source": [
    "# Calling out df after cleaning\n",
    "marine_df"
   ]
  },
  {
   "cell_type": "markdown",
   "id": "5917c0b7",
   "metadata": {},
   "source": [
    "Ater filling Na with the mean and removing all the missing value from three columns named \"...\", I erase total of 4177 - 4041 observations. We can see that our dataset is now free of all the missing values and after dropping the data the number of rows also <span style='color: #0e6655'> reduced from 4155 to 4041 </span>"
   ]
  },
  {
   "cell_type": "markdown",
   "id": "ddcfc712",
   "metadata": {},
   "source": [
    "The dataset can be divided into `numerical` and `categorical columns`:\n",
    "\n",
    "`Numerical Columns:`\n",
    "\n",
    "- Length\n",
    "\n",
    "- Diameter\n",
    "\n",
    "- Height\n",
    "\n",
    "- Whole weight\n",
    "\n",
    "- Shucked weight\n",
    "\n",
    "- Viscera weight\n",
    "\n",
    "- hell weight\n",
    "\n",
    "- Rings\n",
    "\n",
    "`Categorical Columns:`\n",
    "\n",
    "- Sex\n"
   ]
  },
  {
   "cell_type": "code",
   "execution_count": 14,
   "id": "10e6db7c",
   "metadata": {},
   "outputs": [
    {
     "name": "stdout",
     "output_type": "stream",
     "text": [
      "Total count of each unique value for categorical variable gender: \n"
     ]
    },
    {
     "data": {
      "application/vnd.microsoft.datawrangler.viewer.v0+json": {
       "columns": [
        {
         "name": "Sex",
         "rawType": "object",
         "type": "string"
        },
        {
         "name": "count",
         "rawType": "int64",
         "type": "integer"
        }
       ],
       "ref": "cefdb977-660f-4103-a6be-c876336336b3",
       "rows": [
        [
         "M",
         "1476"
        ],
        [
         "I",
         "1307"
        ],
        [
         "F",
         "1258"
        ]
       ],
       "shape": {
        "columns": 1,
        "rows": 3
       }
      },
      "text/plain": [
       "Sex\n",
       "M    1476\n",
       "I    1307\n",
       "F    1258\n",
       "Name: count, dtype: int64"
      ]
     },
     "metadata": {},
     "output_type": "display_data"
    }
   ],
   "source": [
    "# Categorical data type unique values\n",
    "print(\n",
    "    'Total count of each unique value for categorical variable gender: '\n",
    ")\n",
    "display(marine_df['Sex'].value_counts())"
   ]
  },
  {
   "cell_type": "markdown",
   "id": "0d23d4b8",
   "metadata": {},
   "source": [
    "### Step 2: Non-sensical values\n",
    "\n",
    "<span style='color:rgb(6, 64, 52)'> Problems </span>: \n",
    "\n",
    "those measurements are to tell us about the appearance features of those marines but we observed some negative values for ratio data."
   ]
  },
  {
   "cell_type": "code",
   "execution_count": 15,
   "id": "59dc6fb7",
   "metadata": {},
   "outputs": [
    {
     "data": {
      "application/vnd.microsoft.datawrangler.viewer.v0+json": {
       "columns": [
        {
         "name": "index",
         "rawType": "int64",
         "type": "integer"
        },
        {
         "name": "Sex",
         "rawType": "object",
         "type": "string"
        },
        {
         "name": "Length (mm)",
         "rawType": "float64",
         "type": "float"
        },
        {
         "name": "Diameter (mm)",
         "rawType": "float64",
         "type": "float"
        },
        {
         "name": "Height (mm)",
         "rawType": "float64",
         "type": "float"
        },
        {
         "name": "Whole weight (g)",
         "rawType": "float64",
         "type": "float"
        },
        {
         "name": "Shucked weight (g)",
         "rawType": "float64",
         "type": "float"
        },
        {
         "name": "Viscera weight (g)",
         "rawType": "float64",
         "type": "float"
        },
        {
         "name": "Shell weight (g)",
         "rawType": "float64",
         "type": "float"
        },
        {
         "name": "Rings",
         "rawType": "float64",
         "type": "float"
        },
        {
         "name": "Age (y)",
         "rawType": "float64",
         "type": "float"
        }
       ],
       "ref": "95cfdd64-715f-415e-acfa-14823e4c21ef",
       "rows": [
        [
         "2",
         "F",
         "0.53",
         "0.42",
         "0.135",
         "0.677",
         "0.2565",
         "-0.1415",
         "0.21",
         "9.0",
         "10.5"
        ],
        [
         "18",
         "M",
         "-0.365",
         "0.295",
         "0.08",
         "0.2555",
         "0.097",
         "0.043",
         "0.1",
         "7.0",
         "8.5"
        ],
        [
         "39",
         "M",
         "0.355",
         "0.29",
         "0.09",
         "0.3275",
         "0.134",
         "-0.086",
         "0.09",
         "9.0",
         "10.5"
        ],
        [
         "49",
         "F",
         "0.525",
         "0.425",
         "0.16",
         "0.8355",
         "0.3545",
         "0.2135",
         "-0.245",
         "9.0",
         "10.5"
        ],
        [
         "51",
         "M",
         "0.4",
         "0.32",
         "0.095",
         "0.303",
         "0.1335",
         "0.06",
         "-0.1",
         "7.0",
         "8.5"
        ],
        [
         "72",
         "F",
         "0.595",
         "0.475",
         "0.17",
         "1.247",
         "0.48",
         "0.225",
         "-0.425",
         "20.0",
         "21.5"
        ],
        [
         "111",
         "M",
         "0.465",
         "0.36",
         "0.105",
         "0.431",
         "0.172",
         "0.107",
         "-0.175",
         "9.0",
         "10.5"
        ],
        [
         "114",
         "F",
         "0.545",
         "0.41",
         "-0.125",
         "0.6935",
         "0.2975",
         "0.146",
         "0.21",
         "11.0",
         "12.5"
        ],
        [
         "116",
         "F",
         "0.49",
         "0.375",
         "0.135",
         "0.6125",
         "0.2555",
         "0.102",
         "0.22",
         "-11.0",
         "12.5"
        ],
        [
         "139",
         "M",
         "-0.375",
         "0.285",
         "0.095",
         "0.253",
         "0.096",
         "0.0575",
         "0.0925",
         "9.0",
         "10.5"
        ],
        [
         "160",
         "M",
         "-0.605",
         "0.465",
         "0.165",
         "1.056",
         "0.4215",
         "0.2475",
         "0.34",
         "13.0",
         "14.5"
        ],
        [
         "168",
         "M",
         "0.705",
         "0.56",
         "0.22",
         "1.981",
         "-0.8175",
         "0.3085",
         "0.76",
         "14.0",
         "15.5"
        ],
        [
         "173",
         "F",
         "0.52",
         "0.405",
         "-0.115",
         "0.776",
         "0.32",
         "0.1845",
         "0.22",
         "8.0",
         "9.5"
        ],
        [
         "174",
         "I",
         "-0.235",
         "0.16",
         "0.04",
         "0.048",
         "0.0185",
         "0.018",
         "0.015",
         "5.0",
         "6.5"
        ],
        [
         "201",
         "M",
         "0.5",
         "0.4",
         "0.165",
         "0.825",
         "-0.254",
         "0.205",
         "0.285",
         "13.0",
         "14.5"
        ],
        [
         "230",
         "M",
         "0.555",
         "0.445",
         "0.135",
         "-0.836",
         "0.336",
         "0.1625",
         "0.275",
         "13.0",
         "-14.5"
        ],
        [
         "233",
         "I",
         "0.275",
         "0.215",
         "-0.075",
         "0.1155",
         "0.0485",
         "0.029",
         "0.035",
         "7.0",
         "8.5"
        ],
        [
         "245",
         "I",
         "0.35",
         "0.26",
         "0.085",
         "0.174",
         "-0.0705",
         "0.0345",
         "0.06",
         "10.0",
         "11.5"
        ],
        [
         "253",
         "F",
         "0.575",
         "0.46",
         "0.185",
         "1.094",
         "-0.4485",
         "0.217",
         "0.345",
         "15.0",
         "16.5"
        ],
        [
         "269",
         "F",
         "0.45",
         "0.36",
         "-0.125",
         "0.4995",
         "0.2035",
         "0.1",
         "0.17",
         "13.0",
         "14.5"
        ],
        [
         "270",
         "F",
         "0.64",
         "0.525",
         "0.215",
         "1.779",
         "0.4535",
         "0.2855",
         "0.55",
         "22.0",
         "-23.5"
        ],
        [
         "272",
         "M",
         "0.62",
         "0.485",
         "0.205",
         "1.219",
         "0.3875",
         "0.2505",
         "0.385",
         "-14.0",
         "15.5"
        ],
        [
         "287",
         "F",
         "0.495",
         "-0.4",
         "0.155",
         "0.6445",
         "0.242",
         "0.1325",
         "0.205",
         "17.0",
         "18.5"
        ],
        [
         "292",
         "M",
         "0.61",
         "0.475",
         "0.165",
         "1.116",
         "0.428",
         "0.2205",
         "0.315",
         "-15.0",
         "16.5"
        ],
        [
         "304",
         "F",
         "0.47",
         "0.36",
         "0.13",
         "0.472",
         "0.182",
         "0.114",
         "0.15",
         "-10.0",
         "11.5"
        ],
        [
         "312",
         "M",
         "0.595",
         "0.455",
         "-0.195",
         "1.3305",
         "0.4595",
         "0.3235",
         "0.345",
         "19.0",
         "20.5"
        ],
        [
         "328",
         "M",
         "0.36",
         "0.295",
         "0.105",
         "0.241",
         "0.0865",
         "0.053",
         "-0.095",
         "8.0",
         "9.5"
        ],
        [
         "348",
         "I",
         "0.375",
         "0.305",
         "0.115",
         "0.2715",
         "0.092",
         "-0.074",
         "0.09",
         "8.0",
         "9.5"
        ],
        [
         "362",
         "F",
         "-0.65",
         "0.525",
         "0.175",
         "1.4225",
         "0.61",
         "0.2995",
         "0.445",
         "20.0",
         "21.5"
        ],
        [
         "392",
         "F",
         "0.47",
         "0.375",
         "0.125",
         "0.5615",
         "0.252",
         "0.137",
         "0.18",
         "-10.0",
         "11.5"
        ],
        [
         "393",
         "I",
         "0.365",
         "0.295",
         "0.095",
         "0.25",
         "0.1075",
         "0.0545",
         "0.08",
         "-9.0",
         "10.5"
        ],
        [
         "401",
         "M",
         "0.515",
         "0.455",
         "0.135",
         "0.7225",
         "-0.295",
         "0.1625",
         "0.235",
         "9.0",
         "10.5"
        ],
        [
         "402",
         "F",
         "0.435",
         "-0.325",
         "0.11",
         "0.4335",
         "0.3517992509363296",
         "0.0985",
         "0.155",
         "7.0",
         "8.5"
        ],
        [
         "419",
         "M",
         "0.545",
         "0.41",
         "0.14",
         "-0.625",
         "0.223",
         "0.16",
         "0.235",
         "13.0",
         "14.5"
        ],
        [
         "421",
         "I",
         "0.49",
         "-0.38",
         "0.12",
         "0.529",
         "0.2165",
         "0.139",
         "0.155",
         "11.0",
         "12.5"
        ],
        [
         "436",
         "I",
         "0.36",
         "-0.275",
         "0.095",
         "0.217",
         "0.084",
         "0.0435",
         "0.09",
         "7.0",
         "8.5"
        ],
        [
         "439",
         "M",
         "0.5",
         "0.415",
         "-0.165",
         "0.6885",
         "0.249",
         "0.138",
         "0.25",
         "13.0",
         "14.5"
        ],
        [
         "445",
         "F",
         "0.56",
         "0.455",
         "0.19",
         "0.714",
         "0.283",
         "-0.129",
         "0.275",
         "9.0",
         "10.5"
        ],
        [
         "447",
         "M",
         "0.565",
         "0.455",
         "0.185",
         "-0.9265",
         "0.354",
         "0.1575",
         "0.375",
         "16.0",
         "17.5"
        ],
        [
         "463",
         "I",
         "-0.22",
         "0.165",
         "0.055",
         "0.0545",
         "0.0215",
         "0.012",
         "0.02",
         "5.0",
         "6.5"
        ],
        [
         "470",
         "F",
         "0.53",
         "0.44",
         "0.135",
         "0.7835",
         "0.313",
         "0.1715",
         "-0.2185",
         "9.0",
         "10.5"
        ],
        [
         "479",
         "M",
         "0.66",
         "0.545",
         "0.185",
         "1.32",
         "0.5305",
         "-0.2635",
         "0.455",
         "16.0",
         "17.5"
        ],
        [
         "502",
         "F",
         "0.62",
         "0.47",
         "0.225",
         "1.115",
         "0.378",
         "0.2145",
         "0.36",
         "-15.0",
         "16.5"
        ],
        [
         "503",
         "F",
         "0.6",
         "0.505",
         "0.19",
         "1.129",
         "0.4385",
         "0.256",
         "0.36",
         "13.0",
         "-14.5"
        ],
        [
         "506",
         "M",
         "0.56",
         "0.46",
         "0.235",
         "-0.8395",
         "0.3325",
         "0.157",
         "0.305",
         "12.0",
         "13.5"
        ],
        [
         "512",
         "F",
         "0.49",
         "-0.38",
         "0.145",
         "0.6725",
         "0.249",
         "0.181",
         "0.21",
         "10.0",
         "11.5"
        ],
        [
         "516",
         "M",
         "0.4",
         "0.29",
         "0.115",
         "-0.2795",
         "0.1115",
         "0.0575",
         "0.075",
         "9.0",
         "10.5"
        ],
        [
         "543",
         "M",
         "0.445",
         "0.35",
         "0.115",
         "-0.3615",
         "0.3517992509363296",
         "0.0695",
         "0.117",
         "8.0",
         "9.5"
        ],
        [
         "548",
         "F",
         "0.565",
         "0.45",
         "0.16",
         "0.795",
         "0.3605",
         "0.1555",
         "0.23",
         "9.733866933466734",
         "-13.5"
        ],
        [
         "579",
         "F",
         "0.63",
         "0.48",
         "0.175",
         "-1.3675",
         "0.5015",
         "0.3035",
         "0.515",
         "17.0",
         "18.5"
        ]
       ],
       "shape": {
        "columns": 10,
        "rows": 350
       }
      },
      "text/html": [
       "<div>\n",
       "<style scoped>\n",
       "    .dataframe tbody tr th:only-of-type {\n",
       "        vertical-align: middle;\n",
       "    }\n",
       "\n",
       "    .dataframe tbody tr th {\n",
       "        vertical-align: top;\n",
       "    }\n",
       "\n",
       "    .dataframe thead th {\n",
       "        text-align: right;\n",
       "    }\n",
       "</style>\n",
       "<table border=\"1\" class=\"dataframe\">\n",
       "  <thead>\n",
       "    <tr style=\"text-align: right;\">\n",
       "      <th></th>\n",
       "      <th>Sex</th>\n",
       "      <th>Length (mm)</th>\n",
       "      <th>Diameter (mm)</th>\n",
       "      <th>Height (mm)</th>\n",
       "      <th>Whole weight (g)</th>\n",
       "      <th>Shucked weight (g)</th>\n",
       "      <th>Viscera weight (g)</th>\n",
       "      <th>Shell weight (g)</th>\n",
       "      <th>Rings</th>\n",
       "      <th>Age (y)</th>\n",
       "    </tr>\n",
       "  </thead>\n",
       "  <tbody>\n",
       "    <tr>\n",
       "      <th>2</th>\n",
       "      <td>F</td>\n",
       "      <td>0.530</td>\n",
       "      <td>0.420</td>\n",
       "      <td>0.135</td>\n",
       "      <td>0.6770</td>\n",
       "      <td>0.2565</td>\n",
       "      <td>-0.1415</td>\n",
       "      <td>0.2100</td>\n",
       "      <td>9.0</td>\n",
       "      <td>10.5</td>\n",
       "    </tr>\n",
       "    <tr>\n",
       "      <th>18</th>\n",
       "      <td>M</td>\n",
       "      <td>-0.365</td>\n",
       "      <td>0.295</td>\n",
       "      <td>0.080</td>\n",
       "      <td>0.2555</td>\n",
       "      <td>0.0970</td>\n",
       "      <td>0.0430</td>\n",
       "      <td>0.1000</td>\n",
       "      <td>7.0</td>\n",
       "      <td>8.5</td>\n",
       "    </tr>\n",
       "    <tr>\n",
       "      <th>39</th>\n",
       "      <td>M</td>\n",
       "      <td>0.355</td>\n",
       "      <td>0.290</td>\n",
       "      <td>0.090</td>\n",
       "      <td>0.3275</td>\n",
       "      <td>0.1340</td>\n",
       "      <td>-0.0860</td>\n",
       "      <td>0.0900</td>\n",
       "      <td>9.0</td>\n",
       "      <td>10.5</td>\n",
       "    </tr>\n",
       "    <tr>\n",
       "      <th>49</th>\n",
       "      <td>F</td>\n",
       "      <td>0.525</td>\n",
       "      <td>0.425</td>\n",
       "      <td>0.160</td>\n",
       "      <td>0.8355</td>\n",
       "      <td>0.3545</td>\n",
       "      <td>0.2135</td>\n",
       "      <td>-0.2450</td>\n",
       "      <td>9.0</td>\n",
       "      <td>10.5</td>\n",
       "    </tr>\n",
       "    <tr>\n",
       "      <th>51</th>\n",
       "      <td>M</td>\n",
       "      <td>0.400</td>\n",
       "      <td>0.320</td>\n",
       "      <td>0.095</td>\n",
       "      <td>0.3030</td>\n",
       "      <td>0.1335</td>\n",
       "      <td>0.0600</td>\n",
       "      <td>-0.1000</td>\n",
       "      <td>7.0</td>\n",
       "      <td>8.5</td>\n",
       "    </tr>\n",
       "    <tr>\n",
       "      <th>...</th>\n",
       "      <td>...</td>\n",
       "      <td>...</td>\n",
       "      <td>...</td>\n",
       "      <td>...</td>\n",
       "      <td>...</td>\n",
       "      <td>...</td>\n",
       "      <td>...</td>\n",
       "      <td>...</td>\n",
       "      <td>...</td>\n",
       "      <td>...</td>\n",
       "    </tr>\n",
       "    <tr>\n",
       "      <th>4130</th>\n",
       "      <td>M</td>\n",
       "      <td>0.580</td>\n",
       "      <td>0.450</td>\n",
       "      <td>0.140</td>\n",
       "      <td>0.8240</td>\n",
       "      <td>0.3465</td>\n",
       "      <td>0.1765</td>\n",
       "      <td>-0.2630</td>\n",
       "      <td>10.0</td>\n",
       "      <td>11.5</td>\n",
       "    </tr>\n",
       "    <tr>\n",
       "      <th>4151</th>\n",
       "      <td>I</td>\n",
       "      <td>0.350</td>\n",
       "      <td>0.250</td>\n",
       "      <td>0.075</td>\n",
       "      <td>0.1695</td>\n",
       "      <td>0.0835</td>\n",
       "      <td>0.0355</td>\n",
       "      <td>-0.0410</td>\n",
       "      <td>6.0</td>\n",
       "      <td>7.5</td>\n",
       "    </tr>\n",
       "    <tr>\n",
       "      <th>4159</th>\n",
       "      <td>F</td>\n",
       "      <td>0.560</td>\n",
       "      <td>0.440</td>\n",
       "      <td>0.135</td>\n",
       "      <td>0.8025</td>\n",
       "      <td>0.3500</td>\n",
       "      <td>0.1615</td>\n",
       "      <td>0.2590</td>\n",
       "      <td>-9.0</td>\n",
       "      <td>10.5</td>\n",
       "    </tr>\n",
       "    <tr>\n",
       "      <th>4163</th>\n",
       "      <td>I</td>\n",
       "      <td>0.390</td>\n",
       "      <td>0.310</td>\n",
       "      <td>0.085</td>\n",
       "      <td>-0.3440</td>\n",
       "      <td>0.1810</td>\n",
       "      <td>0.0695</td>\n",
       "      <td>0.0790</td>\n",
       "      <td>7.0</td>\n",
       "      <td>8.5</td>\n",
       "    </tr>\n",
       "    <tr>\n",
       "      <th>4170</th>\n",
       "      <td>M</td>\n",
       "      <td>0.550</td>\n",
       "      <td>0.430</td>\n",
       "      <td>0.130</td>\n",
       "      <td>0.8395</td>\n",
       "      <td>0.3155</td>\n",
       "      <td>0.1955</td>\n",
       "      <td>-0.2405</td>\n",
       "      <td>10.0</td>\n",
       "      <td>11.5</td>\n",
       "    </tr>\n",
       "  </tbody>\n",
       "</table>\n",
       "<p>350 rows × 10 columns</p>\n",
       "</div>"
      ],
      "text/plain": [
       "     Sex  Length (mm)  Diameter (mm)  Height (mm)  Whole weight (g)  \\\n",
       "2      F        0.530          0.420        0.135            0.6770   \n",
       "18     M       -0.365          0.295        0.080            0.2555   \n",
       "39     M        0.355          0.290        0.090            0.3275   \n",
       "49     F        0.525          0.425        0.160            0.8355   \n",
       "51     M        0.400          0.320        0.095            0.3030   \n",
       "...   ..          ...            ...          ...               ...   \n",
       "4130   M        0.580          0.450        0.140            0.8240   \n",
       "4151   I        0.350          0.250        0.075            0.1695   \n",
       "4159   F        0.560          0.440        0.135            0.8025   \n",
       "4163   I        0.390          0.310        0.085           -0.3440   \n",
       "4170   M        0.550          0.430        0.130            0.8395   \n",
       "\n",
       "      Shucked weight (g)  Viscera weight (g)  Shell weight (g)  Rings  Age (y)  \n",
       "2                 0.2565             -0.1415            0.2100    9.0     10.5  \n",
       "18                0.0970              0.0430            0.1000    7.0      8.5  \n",
       "39                0.1340             -0.0860            0.0900    9.0     10.5  \n",
       "49                0.3545              0.2135           -0.2450    9.0     10.5  \n",
       "51                0.1335              0.0600           -0.1000    7.0      8.5  \n",
       "...                  ...                 ...               ...    ...      ...  \n",
       "4130              0.3465              0.1765           -0.2630   10.0     11.5  \n",
       "4151              0.0835              0.0355           -0.0410    6.0      7.5  \n",
       "4159              0.3500              0.1615            0.2590   -9.0     10.5  \n",
       "4163              0.1810              0.0695            0.0790    7.0      8.5  \n",
       "4170              0.3155              0.1955           -0.2405   10.0     11.5  \n",
       "\n",
       "[350 rows x 10 columns]"
      ]
     },
     "execution_count": 15,
     "metadata": {},
     "output_type": "execute_result"
    }
   ],
   "source": [
    "# Define negative value\n",
    "numeric_cols = [\n",
    "    'Length (mm)', 'Diameter (mm)', \n",
    "    'Height (mm)', 'Whole weight (g)',\n",
    "    'Shucked weight (g)', 'Viscera weight (g)', \n",
    "    'Shell weight (g)', 'Rings', 'Age (y)']\n",
    "negative_values = (marine_df[numeric_cols] < 0).any(axis=1)\n",
    "\n",
    "# Call back nonsensical values to check\n",
    "marine_df.loc[negative_values]"
   ]
  },
  {
   "cell_type": "code",
   "execution_count": 16,
   "id": "53cc5c3e",
   "metadata": {},
   "outputs": [
    {
     "data": {
      "application/vnd.microsoft.datawrangler.viewer.v0+json": {
       "columns": [
        {
         "name": "index",
         "rawType": "object",
         "type": "string"
        },
        {
         "name": "0",
         "rawType": "int64",
         "type": "integer"
        }
       ],
       "ref": "70ceed87-473e-43e3-bc5d-d1749a152777",
       "rows": [
        [
         "Length (mm)",
         "45"
        ],
        [
         "Diameter (mm)",
         "37"
        ],
        [
         "Height (mm)",
         "40"
        ],
        [
         "Whole weight (g)",
         "52"
        ],
        [
         "Shucked weight (g)",
         "31"
        ],
        [
         "Viscera weight (g)",
         "36"
        ],
        [
         "Shell weight (g)",
         "40"
        ],
        [
         "Rings",
         "35"
        ],
        [
         "Age (y)",
         "44"
        ]
       ],
       "shape": {
        "columns": 1,
        "rows": 9
       }
      },
      "text/plain": [
       "Length (mm)           45\n",
       "Diameter (mm)         37\n",
       "Height (mm)           40\n",
       "Whole weight (g)      52\n",
       "Shucked weight (g)    31\n",
       "Viscera weight (g)    36\n",
       "Shell weight (g)      40\n",
       "Rings                 35\n",
       "Age (y)               44\n",
       "dtype: int64"
      ]
     },
     "execution_count": 16,
     "metadata": {},
     "output_type": "execute_result"
    }
   ],
   "source": [
    "# Count total of negative value in each individual column\n",
    "negative_values = (marine_df[numeric_cols] < 0)\n",
    "negative_values.sum()"
   ]
  },
  {
   "cell_type": "markdown",
   "id": "94bc2635",
   "metadata": {},
   "source": [
    "When looking at distribution of each column, it is clearly that most of them is followed approxiamately normal distribution, i decided to <span style='color:rgb(38, 170, 144)'>replace all the negative values with `median` </span> to ensure the interity and keep most of rows as much as possible. "
   ]
  },
  {
   "cell_type": "code",
   "execution_count": 17,
   "id": "2626792e",
   "metadata": {},
   "outputs": [
    {
     "data": {
      "application/vnd.microsoft.datawrangler.viewer.v0+json": {
       "columns": [
        {
         "name": "index",
         "rawType": "int64",
         "type": "integer"
        },
        {
         "name": "Sex",
         "rawType": "object",
         "type": "string"
        },
        {
         "name": "Length (mm)",
         "rawType": "float64",
         "type": "float"
        },
        {
         "name": "Diameter (mm)",
         "rawType": "float64",
         "type": "float"
        },
        {
         "name": "Height (mm)",
         "rawType": "float64",
         "type": "float"
        },
        {
         "name": "Whole weight (g)",
         "rawType": "float64",
         "type": "float"
        },
        {
         "name": "Shucked weight (g)",
         "rawType": "float64",
         "type": "float"
        },
        {
         "name": "Viscera weight (g)",
         "rawType": "float64",
         "type": "float"
        },
        {
         "name": "Shell weight (g)",
         "rawType": "float64",
         "type": "float"
        },
        {
         "name": "Rings",
         "rawType": "float64",
         "type": "float"
        },
        {
         "name": "Age (y)",
         "rawType": "float64",
         "type": "float"
        }
       ],
       "ref": "1feb1ba3-a511-4c0a-a24c-04ff03e90976",
       "rows": [
        [
         "1",
         "M",
         "0.35",
         "0.265",
         "0.09",
         "0.2255",
         "0.0995",
         "0.0485",
         "0.07",
         "7.0",
         "8.5"
        ],
        [
         "2",
         "F",
         "0.53",
         "0.42",
         "0.135",
         "0.677",
         "0.2565",
         null,
         "0.21",
         "9.0",
         "10.5"
        ],
        [
         "3",
         "M",
         "0.44",
         "0.365",
         "0.125",
         "0.516",
         "0.2155",
         "0.114",
         "0.155",
         "10.0",
         "11.5"
        ],
        [
         "4",
         "I",
         "0.33",
         "0.255",
         "0.08",
         "0.205",
         "0.0895",
         "0.0395",
         "0.055",
         "7.0",
         "8.5"
        ],
        [
         "5",
         "I",
         "0.425",
         "0.3",
         "0.095",
         "0.3515",
         "0.141",
         "0.0775",
         "0.12",
         "8.0",
         "9.5"
        ],
        [
         "6",
         "F",
         "0.53",
         "0.415",
         "0.15",
         "0.7775",
         "0.237",
         "0.1415",
         "0.33",
         "20.0",
         "21.5"
        ],
        [
         "7",
         "F",
         "0.545",
         "0.425",
         "0.125",
         "0.768",
         "0.294",
         "0.1495",
         "0.26",
         "16.0",
         "17.5"
        ],
        [
         "8",
         "M",
         "0.475",
         "0.37",
         "0.125",
         "0.5095",
         "0.2165",
         "0.1125",
         "0.165",
         "9.0",
         "10.5"
        ],
        [
         "9",
         "F",
         "0.55",
         "0.44",
         "0.15",
         "0.8945",
         "0.3145",
         "0.151",
         "0.32",
         "19.0",
         "20.5"
        ],
        [
         "10",
         "F",
         "0.525",
         "0.38",
         "0.14",
         "0.6065",
         "0.194",
         "0.1475",
         "0.21",
         "14.0",
         "15.5"
        ],
        [
         "11",
         "M",
         "0.43",
         "0.35",
         "0.11",
         "0.406",
         "0.1675",
         "0.081",
         "0.135",
         "10.0",
         "11.5"
        ],
        [
         "12",
         "M",
         "0.49",
         "0.38",
         "0.135",
         "0.5415",
         "0.2175",
         "0.095",
         "0.19",
         "11.0",
         "12.5"
        ],
        [
         "13",
         "F",
         "0.535",
         "0.405",
         "0.145",
         "0.6845",
         "0.2725",
         "0.171",
         "0.205",
         "10.0",
         "11.5"
        ],
        [
         "15",
         "M",
         "0.5",
         "0.4",
         "0.13",
         "0.6645",
         "0.258",
         "0.133",
         "0.24",
         "12.0",
         "13.5"
        ],
        [
         "16",
         "I",
         "0.355",
         "0.28",
         "0.085",
         "0.2905",
         "0.095",
         "0.0395",
         "0.115",
         "7.0",
         "8.5"
        ],
        [
         "17",
         "F",
         "0.44",
         "0.34",
         "0.1",
         "0.451",
         "0.188",
         "0.087",
         "0.13",
         "10.0",
         "11.5"
        ],
        [
         "18",
         "M",
         null,
         "0.295",
         "0.08",
         "0.2555",
         "0.097",
         "0.043",
         "0.1",
         "7.0",
         "8.5"
        ],
        [
         "19",
         "M",
         "0.45",
         "0.32",
         "0.1",
         "0.381",
         "0.1705",
         "0.075",
         "0.115",
         "9.0",
         "10.5"
        ],
        [
         "20",
         "M",
         "0.355",
         "0.28",
         "0.095",
         "0.2455",
         "0.0955",
         "0.062",
         "0.075",
         "11.0",
         "12.5"
        ],
        [
         "21",
         "I",
         "0.38",
         "0.275",
         "0.1",
         "0.2255",
         "0.08",
         "0.049",
         "0.085",
         "10.0",
         "11.5"
        ],
        [
         "22",
         "F",
         "0.565",
         "0.44",
         "0.155",
         "0.9395",
         "0.4275",
         "0.214",
         "0.27",
         "12.0",
         "13.5"
        ],
        [
         "23",
         "F",
         "0.55",
         "0.415",
         "0.135",
         "0.7635",
         "0.318",
         "0.21",
         "0.2",
         "9.0",
         "10.5"
        ],
        [
         "24",
         "F",
         "0.615",
         "0.48",
         "0.165",
         "1.1615",
         "0.513",
         "0.301",
         "0.305",
         "10.0",
         "11.5"
        ],
        [
         "25",
         "F",
         "0.56",
         "0.44",
         "0.14",
         "0.9285",
         "0.3825",
         "0.188",
         "0.3",
         "11.0",
         "12.5"
        ],
        [
         "26",
         "F",
         "0.58",
         "0.45",
         "0.185",
         "0.9955",
         "0.3945",
         "0.272",
         "0.285",
         "11.0",
         "12.5"
        ],
        [
         "27",
         "M",
         "0.59",
         "0.445",
         "0.14",
         "0.931",
         "0.356",
         "0.234",
         "0.28",
         "12.0",
         "13.5"
        ],
        [
         "28",
         "M",
         "0.605",
         "0.475",
         "0.18",
         "0.9365",
         "0.394",
         "0.219",
         "0.295",
         "15.0",
         "16.5"
        ],
        [
         "29",
         "M",
         "0.575",
         "0.425",
         "0.14",
         "0.8635",
         "0.393",
         "0.227",
         "0.2",
         "11.0",
         "12.5"
        ],
        [
         "30",
         "M",
         "0.58",
         "0.47",
         "0.165",
         "0.9975",
         "0.3935",
         "0.242",
         "0.33",
         "10.0",
         "11.5"
        ],
        [
         "31",
         "F",
         "0.68",
         "0.56",
         "0.165",
         "1.639",
         "0.6055",
         "0.2805",
         "0.46",
         "15.0",
         "16.5"
        ],
        [
         "32",
         "M",
         "0.665",
         "0.525",
         "0.165",
         "1.338",
         "0.5515",
         "0.3575",
         "0.35",
         "18.0",
         "19.5"
        ],
        [
         "33",
         "F",
         "0.68",
         "0.55",
         "0.175",
         "1.798",
         "0.815",
         "0.3925",
         "0.455",
         "19.0",
         "20.5"
        ],
        [
         "34",
         "F",
         "0.705",
         "0.55",
         "0.2",
         "1.7095",
         "0.633",
         "0.4115",
         "0.49",
         "13.0",
         "14.5"
        ],
        [
         "35",
         "M",
         "0.465",
         "0.355",
         "0.105",
         "0.4795",
         "0.227",
         "0.124",
         "0.125",
         "8.0",
         "9.5"
        ],
        [
         "36",
         "F",
         "0.54",
         "0.475",
         "0.155",
         "1.217",
         "0.5305",
         "0.3075",
         "0.34",
         "16.0",
         "17.5"
        ],
        [
         "37",
         "F",
         "0.45",
         "0.355",
         "0.105",
         "0.5225",
         "0.237",
         "0.1165",
         "0.145",
         "8.0",
         "9.5"
        ],
        [
         "38",
         "F",
         "0.575",
         "0.445",
         "0.135",
         "0.883",
         "0.381",
         "0.2035",
         "0.26",
         "11.0",
         "12.5"
        ],
        [
         "39",
         "M",
         "0.355",
         "0.29",
         "0.09",
         "0.3275",
         "0.134",
         null,
         "0.09",
         "9.0",
         "10.5"
        ],
        [
         "40",
         "F",
         "0.45",
         "0.335",
         "0.105",
         "0.425",
         "0.1865",
         "0.091",
         "0.115",
         "9.0",
         "10.5"
        ],
        [
         "41",
         "F",
         "0.55",
         "0.425",
         "0.135",
         "0.8515",
         "0.362",
         "0.196",
         "0.27",
         "14.0",
         "15.5"
        ],
        [
         "42",
         "I",
         "0.24",
         "0.175",
         "0.045",
         "0.07",
         "0.0315",
         "0.0235",
         "0.02",
         "5.0",
         "6.5"
        ],
        [
         "43",
         "I",
         "0.205",
         "0.15",
         "0.055",
         "0.042",
         "0.0255",
         "0.015",
         "0.012",
         "5.0",
         "6.5"
        ],
        [
         "44",
         "I",
         "0.21",
         "0.15",
         "0.05",
         "0.042",
         "0.0175",
         "0.0125",
         "0.015",
         "4.0",
         "5.5"
        ],
        [
         "45",
         "I",
         "0.39",
         "0.295",
         "0.095",
         "0.203",
         "0.0875",
         "0.045",
         "0.075",
         "7.0",
         "8.5"
        ],
        [
         "46",
         "M",
         "0.47",
         "0.37",
         "0.12",
         "0.5795",
         "0.293",
         "0.227",
         "0.14",
         "9.0",
         "10.5"
        ],
        [
         "47",
         "F",
         "0.46",
         "0.375",
         "0.12",
         "0.4605",
         "0.1775",
         "0.11",
         "0.15",
         "7.0",
         "8.5"
        ],
        [
         "48",
         "I",
         "0.325",
         "0.245",
         "0.07",
         "0.161",
         "0.0755",
         "0.0255",
         "0.23316325256057954",
         "6.0",
         "7.5"
        ],
        [
         "49",
         "F",
         "0.525",
         "0.425",
         "0.16",
         "0.8355",
         "0.3545",
         "0.2135",
         null,
         "9.0",
         "10.5"
        ],
        [
         "50",
         "I",
         "0.52",
         "0.41",
         "0.12",
         "0.595",
         "0.2385",
         "0.111",
         "0.19",
         "8.0",
         "9.5"
        ],
        [
         "51",
         "M",
         "0.4",
         "0.32",
         "0.095",
         "0.303",
         "0.1335",
         "0.06",
         null,
         "7.0",
         "8.5"
        ]
       ],
       "shape": {
        "columns": 10,
        "rows": 4041
       }
      },
      "text/html": [
       "<div>\n",
       "<style scoped>\n",
       "    .dataframe tbody tr th:only-of-type {\n",
       "        vertical-align: middle;\n",
       "    }\n",
       "\n",
       "    .dataframe tbody tr th {\n",
       "        vertical-align: top;\n",
       "    }\n",
       "\n",
       "    .dataframe thead th {\n",
       "        text-align: right;\n",
       "    }\n",
       "</style>\n",
       "<table border=\"1\" class=\"dataframe\">\n",
       "  <thead>\n",
       "    <tr style=\"text-align: right;\">\n",
       "      <th></th>\n",
       "      <th>Sex</th>\n",
       "      <th>Length (mm)</th>\n",
       "      <th>Diameter (mm)</th>\n",
       "      <th>Height (mm)</th>\n",
       "      <th>Whole weight (g)</th>\n",
       "      <th>Shucked weight (g)</th>\n",
       "      <th>Viscera weight (g)</th>\n",
       "      <th>Shell weight (g)</th>\n",
       "      <th>Rings</th>\n",
       "      <th>Age (y)</th>\n",
       "    </tr>\n",
       "  </thead>\n",
       "  <tbody>\n",
       "    <tr>\n",
       "      <th>1</th>\n",
       "      <td>M</td>\n",
       "      <td>0.350</td>\n",
       "      <td>0.265</td>\n",
       "      <td>0.090</td>\n",
       "      <td>0.2255</td>\n",
       "      <td>0.0995</td>\n",
       "      <td>0.0485</td>\n",
       "      <td>0.0700</td>\n",
       "      <td>7.000000</td>\n",
       "      <td>8.5</td>\n",
       "    </tr>\n",
       "    <tr>\n",
       "      <th>2</th>\n",
       "      <td>F</td>\n",
       "      <td>0.530</td>\n",
       "      <td>0.420</td>\n",
       "      <td>0.135</td>\n",
       "      <td>0.6770</td>\n",
       "      <td>0.2565</td>\n",
       "      <td>NaN</td>\n",
       "      <td>0.2100</td>\n",
       "      <td>9.000000</td>\n",
       "      <td>10.5</td>\n",
       "    </tr>\n",
       "    <tr>\n",
       "      <th>3</th>\n",
       "      <td>M</td>\n",
       "      <td>0.440</td>\n",
       "      <td>0.365</td>\n",
       "      <td>0.125</td>\n",
       "      <td>0.5160</td>\n",
       "      <td>0.2155</td>\n",
       "      <td>0.1140</td>\n",
       "      <td>0.1550</td>\n",
       "      <td>10.000000</td>\n",
       "      <td>11.5</td>\n",
       "    </tr>\n",
       "    <tr>\n",
       "      <th>4</th>\n",
       "      <td>I</td>\n",
       "      <td>0.330</td>\n",
       "      <td>0.255</td>\n",
       "      <td>0.080</td>\n",
       "      <td>0.2050</td>\n",
       "      <td>0.0895</td>\n",
       "      <td>0.0395</td>\n",
       "      <td>0.0550</td>\n",
       "      <td>7.000000</td>\n",
       "      <td>8.5</td>\n",
       "    </tr>\n",
       "    <tr>\n",
       "      <th>5</th>\n",
       "      <td>I</td>\n",
       "      <td>0.425</td>\n",
       "      <td>0.300</td>\n",
       "      <td>0.095</td>\n",
       "      <td>0.3515</td>\n",
       "      <td>0.1410</td>\n",
       "      <td>0.0775</td>\n",
       "      <td>0.1200</td>\n",
       "      <td>8.000000</td>\n",
       "      <td>9.5</td>\n",
       "    </tr>\n",
       "    <tr>\n",
       "      <th>...</th>\n",
       "      <td>...</td>\n",
       "      <td>...</td>\n",
       "      <td>...</td>\n",
       "      <td>...</td>\n",
       "      <td>...</td>\n",
       "      <td>...</td>\n",
       "      <td>...</td>\n",
       "      <td>...</td>\n",
       "      <td>...</td>\n",
       "      <td>...</td>\n",
       "    </tr>\n",
       "    <tr>\n",
       "      <th>4171</th>\n",
       "      <td>M</td>\n",
       "      <td>0.560</td>\n",
       "      <td>0.430</td>\n",
       "      <td>0.155</td>\n",
       "      <td>0.8675</td>\n",
       "      <td>0.4000</td>\n",
       "      <td>0.1720</td>\n",
       "      <td>0.2290</td>\n",
       "      <td>8.000000</td>\n",
       "      <td>9.5</td>\n",
       "    </tr>\n",
       "    <tr>\n",
       "      <th>4173</th>\n",
       "      <td>M</td>\n",
       "      <td>0.590</td>\n",
       "      <td>0.440</td>\n",
       "      <td>0.135</td>\n",
       "      <td>0.9660</td>\n",
       "      <td>0.4390</td>\n",
       "      <td>0.2145</td>\n",
       "      <td>0.2605</td>\n",
       "      <td>10.000000</td>\n",
       "      <td>11.5</td>\n",
       "    </tr>\n",
       "    <tr>\n",
       "      <th>4174</th>\n",
       "      <td>M</td>\n",
       "      <td>0.600</td>\n",
       "      <td>0.475</td>\n",
       "      <td>0.205</td>\n",
       "      <td>1.1760</td>\n",
       "      <td>0.5255</td>\n",
       "      <td>0.2875</td>\n",
       "      <td>0.3080</td>\n",
       "      <td>9.000000</td>\n",
       "      <td>10.5</td>\n",
       "    </tr>\n",
       "    <tr>\n",
       "      <th>4175</th>\n",
       "      <td>F</td>\n",
       "      <td>0.625</td>\n",
       "      <td>0.485</td>\n",
       "      <td>0.150</td>\n",
       "      <td>1.0945</td>\n",
       "      <td>0.5310</td>\n",
       "      <td>0.2610</td>\n",
       "      <td>0.2960</td>\n",
       "      <td>10.000000</td>\n",
       "      <td>11.5</td>\n",
       "    </tr>\n",
       "    <tr>\n",
       "      <th>4176</th>\n",
       "      <td>M</td>\n",
       "      <td>0.710</td>\n",
       "      <td>0.555</td>\n",
       "      <td>0.195</td>\n",
       "      <td>1.9485</td>\n",
       "      <td>0.9455</td>\n",
       "      <td>0.3765</td>\n",
       "      <td>0.4950</td>\n",
       "      <td>9.733867</td>\n",
       "      <td>13.5</td>\n",
       "    </tr>\n",
       "  </tbody>\n",
       "</table>\n",
       "<p>4041 rows × 10 columns</p>\n",
       "</div>"
      ],
      "text/plain": [
       "     Sex  Length (mm)  Diameter (mm)  Height (mm)  Whole weight (g)  \\\n",
       "1      M        0.350          0.265        0.090            0.2255   \n",
       "2      F        0.530          0.420        0.135            0.6770   \n",
       "3      M        0.440          0.365        0.125            0.5160   \n",
       "4      I        0.330          0.255        0.080            0.2050   \n",
       "5      I        0.425          0.300        0.095            0.3515   \n",
       "...   ..          ...            ...          ...               ...   \n",
       "4171   M        0.560          0.430        0.155            0.8675   \n",
       "4173   M        0.590          0.440        0.135            0.9660   \n",
       "4174   M        0.600          0.475        0.205            1.1760   \n",
       "4175   F        0.625          0.485        0.150            1.0945   \n",
       "4176   M        0.710          0.555        0.195            1.9485   \n",
       "\n",
       "      Shucked weight (g)  Viscera weight (g)  Shell weight (g)      Rings  \\\n",
       "1                 0.0995              0.0485            0.0700   7.000000   \n",
       "2                 0.2565                 NaN            0.2100   9.000000   \n",
       "3                 0.2155              0.1140            0.1550  10.000000   \n",
       "4                 0.0895              0.0395            0.0550   7.000000   \n",
       "5                 0.1410              0.0775            0.1200   8.000000   \n",
       "...                  ...                 ...               ...        ...   \n",
       "4171              0.4000              0.1720            0.2290   8.000000   \n",
       "4173              0.4390              0.2145            0.2605  10.000000   \n",
       "4174              0.5255              0.2875            0.3080   9.000000   \n",
       "4175              0.5310              0.2610            0.2960  10.000000   \n",
       "4176              0.9455              0.3765            0.4950   9.733867   \n",
       "\n",
       "      Age (y)  \n",
       "1         8.5  \n",
       "2        10.5  \n",
       "3        11.5  \n",
       "4         8.5  \n",
       "5         9.5  \n",
       "...       ...  \n",
       "4171      9.5  \n",
       "4173     11.5  \n",
       "4174     10.5  \n",
       "4175     11.5  \n",
       "4176     13.5  \n",
       "\n",
       "[4041 rows x 10 columns]"
      ]
     },
     "execution_count": 17,
     "metadata": {},
     "output_type": "execute_result"
    }
   ],
   "source": [
    "# Convert them to Nan value \n",
    "marine_df[marine_df[numeric_cols] < 0] = np.nan\n",
    "marine_df"
   ]
  },
  {
   "cell_type": "code",
   "execution_count": 18,
   "id": "9eff25ee",
   "metadata": {},
   "outputs": [
    {
     "data": {
      "application/vnd.microsoft.datawrangler.viewer.v0+json": {
       "columns": [
        {
         "name": "index",
         "rawType": "int64",
         "type": "integer"
        },
        {
         "name": "Length (mm)",
         "rawType": "float64",
         "type": "float"
        },
        {
         "name": "Diameter (mm)",
         "rawType": "float64",
         "type": "float"
        },
        {
         "name": "Height (mm)",
         "rawType": "float64",
         "type": "float"
        },
        {
         "name": "Whole weight (g)",
         "rawType": "float64",
         "type": "float"
        },
        {
         "name": "Shucked weight (g)",
         "rawType": "float64",
         "type": "float"
        },
        {
         "name": "Viscera weight (g)",
         "rawType": "float64",
         "type": "float"
        },
        {
         "name": "Shell weight (g)",
         "rawType": "float64",
         "type": "float"
        },
        {
         "name": "Rings",
         "rawType": "float64",
         "type": "float"
        },
        {
         "name": "Age (y)",
         "rawType": "float64",
         "type": "float"
        }
       ],
       "ref": "c22d348b-37ef-426c-9938-05d310da5538",
       "rows": [
        [
         "1",
         "0.35",
         "0.265",
         "0.09",
         "0.2255",
         "0.0995",
         "0.0485",
         "0.07",
         "7.0",
         "8.5"
        ],
        [
         "2",
         "0.53",
         "0.42",
         "0.135",
         "0.677",
         "0.2565",
         "0.1715",
         "0.21",
         "9.0",
         "10.5"
        ],
        [
         "3",
         "0.44",
         "0.365",
         "0.125",
         "0.516",
         "0.2155",
         "0.114",
         "0.155",
         "10.0",
         "11.5"
        ],
        [
         "4",
         "0.33",
         "0.255",
         "0.08",
         "0.205",
         "0.0895",
         "0.0395",
         "0.055",
         "7.0",
         "8.5"
        ],
        [
         "5",
         "0.425",
         "0.3",
         "0.095",
         "0.3515",
         "0.141",
         "0.0775",
         "0.12",
         "8.0",
         "9.5"
        ],
        [
         "6",
         "0.53",
         "0.415",
         "0.15",
         "0.7775",
         "0.237",
         "0.1415",
         "0.33",
         "20.0",
         "21.5"
        ],
        [
         "7",
         "0.545",
         "0.425",
         "0.125",
         "0.768",
         "0.294",
         "0.1495",
         "0.26",
         "16.0",
         "17.5"
        ],
        [
         "8",
         "0.475",
         "0.37",
         "0.125",
         "0.5095",
         "0.2165",
         "0.1125",
         "0.165",
         "9.0",
         "10.5"
        ],
        [
         "9",
         "0.55",
         "0.44",
         "0.15",
         "0.8945",
         "0.3145",
         "0.151",
         "0.32",
         "19.0",
         "20.5"
        ],
        [
         "10",
         "0.525",
         "0.38",
         "0.14",
         "0.6065",
         "0.194",
         "0.1475",
         "0.21",
         "14.0",
         "15.5"
        ],
        [
         "11",
         "0.43",
         "0.35",
         "0.11",
         "0.406",
         "0.1675",
         "0.081",
         "0.135",
         "10.0",
         "11.5"
        ],
        [
         "12",
         "0.49",
         "0.38",
         "0.135",
         "0.5415",
         "0.2175",
         "0.095",
         "0.19",
         "11.0",
         "12.5"
        ],
        [
         "13",
         "0.535",
         "0.405",
         "0.145",
         "0.6845",
         "0.2725",
         "0.171",
         "0.205",
         "10.0",
         "11.5"
        ],
        [
         "15",
         "0.5",
         "0.4",
         "0.13",
         "0.6645",
         "0.258",
         "0.133",
         "0.24",
         "12.0",
         "13.5"
        ],
        [
         "16",
         "0.355",
         "0.28",
         "0.085",
         "0.2905",
         "0.095",
         "0.0395",
         "0.115",
         "7.0",
         "8.5"
        ],
        [
         "17",
         "0.44",
         "0.34",
         "0.1",
         "0.451",
         "0.188",
         "0.087",
         "0.13",
         "10.0",
         "11.5"
        ],
        [
         "18",
         "0.545",
         "0.295",
         "0.08",
         "0.2555",
         "0.097",
         "0.043",
         "0.1",
         "7.0",
         "8.5"
        ],
        [
         "19",
         "0.45",
         "0.32",
         "0.1",
         "0.381",
         "0.1705",
         "0.075",
         "0.115",
         "9.0",
         "10.5"
        ],
        [
         "20",
         "0.355",
         "0.28",
         "0.095",
         "0.2455",
         "0.0955",
         "0.062",
         "0.075",
         "11.0",
         "12.5"
        ],
        [
         "21",
         "0.38",
         "0.275",
         "0.1",
         "0.2255",
         "0.08",
         "0.049",
         "0.085",
         "10.0",
         "11.5"
        ],
        [
         "22",
         "0.565",
         "0.44",
         "0.155",
         "0.9395",
         "0.4275",
         "0.214",
         "0.27",
         "12.0",
         "13.5"
        ],
        [
         "23",
         "0.55",
         "0.415",
         "0.135",
         "0.7635",
         "0.318",
         "0.21",
         "0.2",
         "9.0",
         "10.5"
        ],
        [
         "24",
         "0.615",
         "0.48",
         "0.165",
         "1.1615",
         "0.513",
         "0.301",
         "0.305",
         "10.0",
         "11.5"
        ],
        [
         "25",
         "0.56",
         "0.44",
         "0.14",
         "0.9285",
         "0.3825",
         "0.188",
         "0.3",
         "11.0",
         "12.5"
        ],
        [
         "26",
         "0.58",
         "0.45",
         "0.185",
         "0.9955",
         "0.3945",
         "0.272",
         "0.285",
         "11.0",
         "12.5"
        ],
        [
         "27",
         "0.59",
         "0.445",
         "0.14",
         "0.931",
         "0.356",
         "0.234",
         "0.28",
         "12.0",
         "13.5"
        ],
        [
         "28",
         "0.605",
         "0.475",
         "0.18",
         "0.9365",
         "0.394",
         "0.219",
         "0.295",
         "15.0",
         "16.5"
        ],
        [
         "29",
         "0.575",
         "0.425",
         "0.14",
         "0.8635",
         "0.393",
         "0.227",
         "0.2",
         "11.0",
         "12.5"
        ],
        [
         "30",
         "0.58",
         "0.47",
         "0.165",
         "0.9975",
         "0.3935",
         "0.242",
         "0.33",
         "10.0",
         "11.5"
        ],
        [
         "31",
         "0.68",
         "0.56",
         "0.165",
         "1.639",
         "0.6055",
         "0.2805",
         "0.46",
         "15.0",
         "16.5"
        ],
        [
         "32",
         "0.665",
         "0.525",
         "0.165",
         "1.338",
         "0.5515",
         "0.3575",
         "0.35",
         "18.0",
         "19.5"
        ],
        [
         "33",
         "0.68",
         "0.55",
         "0.175",
         "1.798",
         "0.815",
         "0.3925",
         "0.455",
         "19.0",
         "20.5"
        ],
        [
         "34",
         "0.705",
         "0.55",
         "0.2",
         "1.7095",
         "0.633",
         "0.4115",
         "0.49",
         "13.0",
         "14.5"
        ],
        [
         "35",
         "0.465",
         "0.355",
         "0.105",
         "0.4795",
         "0.227",
         "0.124",
         "0.125",
         "8.0",
         "9.5"
        ],
        [
         "36",
         "0.54",
         "0.475",
         "0.155",
         "1.217",
         "0.5305",
         "0.3075",
         "0.34",
         "16.0",
         "17.5"
        ],
        [
         "37",
         "0.45",
         "0.355",
         "0.105",
         "0.5225",
         "0.237",
         "0.1165",
         "0.145",
         "8.0",
         "9.5"
        ],
        [
         "38",
         "0.575",
         "0.445",
         "0.135",
         "0.883",
         "0.381",
         "0.2035",
         "0.26",
         "11.0",
         "12.5"
        ],
        [
         "39",
         "0.355",
         "0.29",
         "0.09",
         "0.3275",
         "0.134",
         "0.1715",
         "0.09",
         "9.0",
         "10.5"
        ],
        [
         "40",
         "0.45",
         "0.335",
         "0.105",
         "0.425",
         "0.1865",
         "0.091",
         "0.115",
         "9.0",
         "10.5"
        ],
        [
         "41",
         "0.55",
         "0.425",
         "0.135",
         "0.8515",
         "0.362",
         "0.196",
         "0.27",
         "14.0",
         "15.5"
        ],
        [
         "42",
         "0.24",
         "0.175",
         "0.045",
         "0.07",
         "0.0315",
         "0.0235",
         "0.02",
         "5.0",
         "6.5"
        ],
        [
         "43",
         "0.205",
         "0.15",
         "0.055",
         "0.042",
         "0.0255",
         "0.015",
         "0.012",
         "5.0",
         "6.5"
        ],
        [
         "44",
         "0.21",
         "0.15",
         "0.05",
         "0.042",
         "0.0175",
         "0.0125",
         "0.015",
         "4.0",
         "5.5"
        ],
        [
         "45",
         "0.39",
         "0.295",
         "0.095",
         "0.203",
         "0.0875",
         "0.045",
         "0.075",
         "7.0",
         "8.5"
        ],
        [
         "46",
         "0.47",
         "0.37",
         "0.12",
         "0.5795",
         "0.293",
         "0.227",
         "0.14",
         "9.0",
         "10.5"
        ],
        [
         "47",
         "0.46",
         "0.375",
         "0.12",
         "0.4605",
         "0.1775",
         "0.11",
         "0.15",
         "7.0",
         "8.5"
        ],
        [
         "48",
         "0.325",
         "0.245",
         "0.07",
         "0.161",
         "0.0755",
         "0.0255",
         "0.23316325256057954",
         "6.0",
         "7.5"
        ],
        [
         "49",
         "0.525",
         "0.425",
         "0.16",
         "0.8355",
         "0.3545",
         "0.2135",
         "0.23316325256057954",
         "9.0",
         "10.5"
        ],
        [
         "50",
         "0.52",
         "0.41",
         "0.12",
         "0.595",
         "0.2385",
         "0.111",
         "0.19",
         "8.0",
         "9.5"
        ],
        [
         "51",
         "0.4",
         "0.32",
         "0.095",
         "0.303",
         "0.1335",
         "0.06",
         "0.23316325256057954",
         "7.0",
         "8.5"
        ]
       ],
       "shape": {
        "columns": 9,
        "rows": 4041
       }
      },
      "text/html": [
       "<div>\n",
       "<style scoped>\n",
       "    .dataframe tbody tr th:only-of-type {\n",
       "        vertical-align: middle;\n",
       "    }\n",
       "\n",
       "    .dataframe tbody tr th {\n",
       "        vertical-align: top;\n",
       "    }\n",
       "\n",
       "    .dataframe thead th {\n",
       "        text-align: right;\n",
       "    }\n",
       "</style>\n",
       "<table border=\"1\" class=\"dataframe\">\n",
       "  <thead>\n",
       "    <tr style=\"text-align: right;\">\n",
       "      <th></th>\n",
       "      <th>Length (mm)</th>\n",
       "      <th>Diameter (mm)</th>\n",
       "      <th>Height (mm)</th>\n",
       "      <th>Whole weight (g)</th>\n",
       "      <th>Shucked weight (g)</th>\n",
       "      <th>Viscera weight (g)</th>\n",
       "      <th>Shell weight (g)</th>\n",
       "      <th>Rings</th>\n",
       "      <th>Age (y)</th>\n",
       "    </tr>\n",
       "  </thead>\n",
       "  <tbody>\n",
       "    <tr>\n",
       "      <th>1</th>\n",
       "      <td>0.350</td>\n",
       "      <td>0.265</td>\n",
       "      <td>0.090</td>\n",
       "      <td>0.2255</td>\n",
       "      <td>0.0995</td>\n",
       "      <td>0.0485</td>\n",
       "      <td>0.0700</td>\n",
       "      <td>7.000000</td>\n",
       "      <td>8.5</td>\n",
       "    </tr>\n",
       "    <tr>\n",
       "      <th>2</th>\n",
       "      <td>0.530</td>\n",
       "      <td>0.420</td>\n",
       "      <td>0.135</td>\n",
       "      <td>0.6770</td>\n",
       "      <td>0.2565</td>\n",
       "      <td>0.1715</td>\n",
       "      <td>0.2100</td>\n",
       "      <td>9.000000</td>\n",
       "      <td>10.5</td>\n",
       "    </tr>\n",
       "    <tr>\n",
       "      <th>3</th>\n",
       "      <td>0.440</td>\n",
       "      <td>0.365</td>\n",
       "      <td>0.125</td>\n",
       "      <td>0.5160</td>\n",
       "      <td>0.2155</td>\n",
       "      <td>0.1140</td>\n",
       "      <td>0.1550</td>\n",
       "      <td>10.000000</td>\n",
       "      <td>11.5</td>\n",
       "    </tr>\n",
       "    <tr>\n",
       "      <th>4</th>\n",
       "      <td>0.330</td>\n",
       "      <td>0.255</td>\n",
       "      <td>0.080</td>\n",
       "      <td>0.2050</td>\n",
       "      <td>0.0895</td>\n",
       "      <td>0.0395</td>\n",
       "      <td>0.0550</td>\n",
       "      <td>7.000000</td>\n",
       "      <td>8.5</td>\n",
       "    </tr>\n",
       "    <tr>\n",
       "      <th>5</th>\n",
       "      <td>0.425</td>\n",
       "      <td>0.300</td>\n",
       "      <td>0.095</td>\n",
       "      <td>0.3515</td>\n",
       "      <td>0.1410</td>\n",
       "      <td>0.0775</td>\n",
       "      <td>0.1200</td>\n",
       "      <td>8.000000</td>\n",
       "      <td>9.5</td>\n",
       "    </tr>\n",
       "    <tr>\n",
       "      <th>...</th>\n",
       "      <td>...</td>\n",
       "      <td>...</td>\n",
       "      <td>...</td>\n",
       "      <td>...</td>\n",
       "      <td>...</td>\n",
       "      <td>...</td>\n",
       "      <td>...</td>\n",
       "      <td>...</td>\n",
       "      <td>...</td>\n",
       "    </tr>\n",
       "    <tr>\n",
       "      <th>4171</th>\n",
       "      <td>0.560</td>\n",
       "      <td>0.430</td>\n",
       "      <td>0.155</td>\n",
       "      <td>0.8675</td>\n",
       "      <td>0.4000</td>\n",
       "      <td>0.1720</td>\n",
       "      <td>0.2290</td>\n",
       "      <td>8.000000</td>\n",
       "      <td>9.5</td>\n",
       "    </tr>\n",
       "    <tr>\n",
       "      <th>4173</th>\n",
       "      <td>0.590</td>\n",
       "      <td>0.440</td>\n",
       "      <td>0.135</td>\n",
       "      <td>0.9660</td>\n",
       "      <td>0.4390</td>\n",
       "      <td>0.2145</td>\n",
       "      <td>0.2605</td>\n",
       "      <td>10.000000</td>\n",
       "      <td>11.5</td>\n",
       "    </tr>\n",
       "    <tr>\n",
       "      <th>4174</th>\n",
       "      <td>0.600</td>\n",
       "      <td>0.475</td>\n",
       "      <td>0.205</td>\n",
       "      <td>1.1760</td>\n",
       "      <td>0.5255</td>\n",
       "      <td>0.2875</td>\n",
       "      <td>0.3080</td>\n",
       "      <td>9.000000</td>\n",
       "      <td>10.5</td>\n",
       "    </tr>\n",
       "    <tr>\n",
       "      <th>4175</th>\n",
       "      <td>0.625</td>\n",
       "      <td>0.485</td>\n",
       "      <td>0.150</td>\n",
       "      <td>1.0945</td>\n",
       "      <td>0.5310</td>\n",
       "      <td>0.2610</td>\n",
       "      <td>0.2960</td>\n",
       "      <td>10.000000</td>\n",
       "      <td>11.5</td>\n",
       "    </tr>\n",
       "    <tr>\n",
       "      <th>4176</th>\n",
       "      <td>0.710</td>\n",
       "      <td>0.555</td>\n",
       "      <td>0.195</td>\n",
       "      <td>1.9485</td>\n",
       "      <td>0.9455</td>\n",
       "      <td>0.3765</td>\n",
       "      <td>0.4950</td>\n",
       "      <td>9.733867</td>\n",
       "      <td>13.5</td>\n",
       "    </tr>\n",
       "  </tbody>\n",
       "</table>\n",
       "<p>4041 rows × 9 columns</p>\n",
       "</div>"
      ],
      "text/plain": [
       "      Length (mm)  Diameter (mm)  Height (mm)  Whole weight (g)  \\\n",
       "1           0.350          0.265        0.090            0.2255   \n",
       "2           0.530          0.420        0.135            0.6770   \n",
       "3           0.440          0.365        0.125            0.5160   \n",
       "4           0.330          0.255        0.080            0.2050   \n",
       "5           0.425          0.300        0.095            0.3515   \n",
       "...           ...            ...          ...               ...   \n",
       "4171        0.560          0.430        0.155            0.8675   \n",
       "4173        0.590          0.440        0.135            0.9660   \n",
       "4174        0.600          0.475        0.205            1.1760   \n",
       "4175        0.625          0.485        0.150            1.0945   \n",
       "4176        0.710          0.555        0.195            1.9485   \n",
       "\n",
       "      Shucked weight (g)  Viscera weight (g)  Shell weight (g)      Rings  \\\n",
       "1                 0.0995              0.0485            0.0700   7.000000   \n",
       "2                 0.2565              0.1715            0.2100   9.000000   \n",
       "3                 0.2155              0.1140            0.1550  10.000000   \n",
       "4                 0.0895              0.0395            0.0550   7.000000   \n",
       "5                 0.1410              0.0775            0.1200   8.000000   \n",
       "...                  ...                 ...               ...        ...   \n",
       "4171              0.4000              0.1720            0.2290   8.000000   \n",
       "4173              0.4390              0.2145            0.2605  10.000000   \n",
       "4174              0.5255              0.2875            0.3080   9.000000   \n",
       "4175              0.5310              0.2610            0.2960  10.000000   \n",
       "4176              0.9455              0.3765            0.4950   9.733867   \n",
       "\n",
       "      Age (y)  \n",
       "1         8.5  \n",
       "2        10.5  \n",
       "3        11.5  \n",
       "4         8.5  \n",
       "5         9.5  \n",
       "...       ...  \n",
       "4171      9.5  \n",
       "4173     11.5  \n",
       "4174     10.5  \n",
       "4175     11.5  \n",
       "4176     13.5  \n",
       "\n",
       "[4041 rows x 9 columns]"
      ]
     },
     "execution_count": 18,
     "metadata": {},
     "output_type": "execute_result"
    }
   ],
   "source": [
    "# Replace them into median\n",
    "num_df = marine_df[numeric_cols].fillna(marine_df[numeric_cols].median())\n",
    "num_df.isnull().sum()\n",
    "\n",
    "#describe the numeric df\n",
    "num_df\n",
    "\n"
   ]
  },
  {
   "cell_type": "markdown",
   "id": "3d96d5b1",
   "metadata": {},
   "source": [
    "### Step 3: Duplicates "
   ]
  },
  {
   "cell_type": "code",
   "execution_count": 19,
   "id": "54cad7a5",
   "metadata": {},
   "outputs": [
    {
     "data": {
      "text/plain": [
       "np.int64(0)"
      ]
     },
     "execution_count": 19,
     "metadata": {},
     "output_type": "execute_result"
    }
   ],
   "source": [
    "# Define duplicates rows\n",
    "marine_df.duplicated().sum()"
   ]
  },
  {
   "cell_type": "code",
   "execution_count": 20,
   "id": "f6a32c72",
   "metadata": {},
   "outputs": [
    {
     "data": {
      "application/vnd.microsoft.datawrangler.viewer.v0+json": {
       "columns": [
        {
         "name": "index",
         "rawType": "int64",
         "type": "integer"
        },
        {
         "name": "Sex",
         "rawType": "object",
         "type": "string"
        },
        {
         "name": "Length (mm)",
         "rawType": "float64",
         "type": "float"
        },
        {
         "name": "Diameter (mm)",
         "rawType": "float64",
         "type": "float"
        },
        {
         "name": "Height (mm)",
         "rawType": "float64",
         "type": "float"
        },
        {
         "name": "Whole weight (g)",
         "rawType": "float64",
         "type": "float"
        },
        {
         "name": "Shucked weight (g)",
         "rawType": "float64",
         "type": "float"
        },
        {
         "name": "Viscera weight (g)",
         "rawType": "float64",
         "type": "float"
        },
        {
         "name": "Shell weight (g)",
         "rawType": "float64",
         "type": "float"
        },
        {
         "name": "Rings",
         "rawType": "float64",
         "type": "float"
        },
        {
         "name": "Age (y)",
         "rawType": "float64",
         "type": "float"
        }
       ],
       "ref": "fc09ab22-46cf-462f-b131-22e2e7e51d1e",
       "rows": [
        [
         "1",
         "M",
         "0.35",
         "0.265",
         "0.09",
         "0.2255",
         "0.0995",
         "0.0485",
         "0.07",
         "7.0",
         "8.5"
        ],
        [
         "2",
         "F",
         "0.53",
         "0.42",
         "0.135",
         "0.677",
         "0.2565",
         null,
         "0.21",
         "9.0",
         "10.5"
        ],
        [
         "3",
         "M",
         "0.44",
         "0.365",
         "0.125",
         "0.516",
         "0.2155",
         "0.114",
         "0.155",
         "10.0",
         "11.5"
        ],
        [
         "4",
         "I",
         "0.33",
         "0.255",
         "0.08",
         "0.205",
         "0.0895",
         "0.0395",
         "0.055",
         "7.0",
         "8.5"
        ],
        [
         "5",
         "I",
         "0.425",
         "0.3",
         "0.095",
         "0.3515",
         "0.141",
         "0.0775",
         "0.12",
         "8.0",
         "9.5"
        ],
        [
         "6",
         "F",
         "0.53",
         "0.415",
         "0.15",
         "0.7775",
         "0.237",
         "0.1415",
         "0.33",
         "20.0",
         "21.5"
        ],
        [
         "7",
         "F",
         "0.545",
         "0.425",
         "0.125",
         "0.768",
         "0.294",
         "0.1495",
         "0.26",
         "16.0",
         "17.5"
        ],
        [
         "8",
         "M",
         "0.475",
         "0.37",
         "0.125",
         "0.5095",
         "0.2165",
         "0.1125",
         "0.165",
         "9.0",
         "10.5"
        ],
        [
         "9",
         "F",
         "0.55",
         "0.44",
         "0.15",
         "0.8945",
         "0.3145",
         "0.151",
         "0.32",
         "19.0",
         "20.5"
        ],
        [
         "10",
         "F",
         "0.525",
         "0.38",
         "0.14",
         "0.6065",
         "0.194",
         "0.1475",
         "0.21",
         "14.0",
         "15.5"
        ],
        [
         "11",
         "M",
         "0.43",
         "0.35",
         "0.11",
         "0.406",
         "0.1675",
         "0.081",
         "0.135",
         "10.0",
         "11.5"
        ],
        [
         "12",
         "M",
         "0.49",
         "0.38",
         "0.135",
         "0.5415",
         "0.2175",
         "0.095",
         "0.19",
         "11.0",
         "12.5"
        ],
        [
         "13",
         "F",
         "0.535",
         "0.405",
         "0.145",
         "0.6845",
         "0.2725",
         "0.171",
         "0.205",
         "10.0",
         "11.5"
        ],
        [
         "15",
         "M",
         "0.5",
         "0.4",
         "0.13",
         "0.6645",
         "0.258",
         "0.133",
         "0.24",
         "12.0",
         "13.5"
        ],
        [
         "16",
         "I",
         "0.355",
         "0.28",
         "0.085",
         "0.2905",
         "0.095",
         "0.0395",
         "0.115",
         "7.0",
         "8.5"
        ],
        [
         "17",
         "F",
         "0.44",
         "0.34",
         "0.1",
         "0.451",
         "0.188",
         "0.087",
         "0.13",
         "10.0",
         "11.5"
        ],
        [
         "18",
         "M",
         null,
         "0.295",
         "0.08",
         "0.2555",
         "0.097",
         "0.043",
         "0.1",
         "7.0",
         "8.5"
        ],
        [
         "19",
         "M",
         "0.45",
         "0.32",
         "0.1",
         "0.381",
         "0.1705",
         "0.075",
         "0.115",
         "9.0",
         "10.5"
        ],
        [
         "20",
         "M",
         "0.355",
         "0.28",
         "0.095",
         "0.2455",
         "0.0955",
         "0.062",
         "0.075",
         "11.0",
         "12.5"
        ],
        [
         "21",
         "I",
         "0.38",
         "0.275",
         "0.1",
         "0.2255",
         "0.08",
         "0.049",
         "0.085",
         "10.0",
         "11.5"
        ],
        [
         "22",
         "F",
         "0.565",
         "0.44",
         "0.155",
         "0.9395",
         "0.4275",
         "0.214",
         "0.27",
         "12.0",
         "13.5"
        ],
        [
         "23",
         "F",
         "0.55",
         "0.415",
         "0.135",
         "0.7635",
         "0.318",
         "0.21",
         "0.2",
         "9.0",
         "10.5"
        ],
        [
         "24",
         "F",
         "0.615",
         "0.48",
         "0.165",
         "1.1615",
         "0.513",
         "0.301",
         "0.305",
         "10.0",
         "11.5"
        ],
        [
         "25",
         "F",
         "0.56",
         "0.44",
         "0.14",
         "0.9285",
         "0.3825",
         "0.188",
         "0.3",
         "11.0",
         "12.5"
        ],
        [
         "26",
         "F",
         "0.58",
         "0.45",
         "0.185",
         "0.9955",
         "0.3945",
         "0.272",
         "0.285",
         "11.0",
         "12.5"
        ],
        [
         "27",
         "M",
         "0.59",
         "0.445",
         "0.14",
         "0.931",
         "0.356",
         "0.234",
         "0.28",
         "12.0",
         "13.5"
        ],
        [
         "28",
         "M",
         "0.605",
         "0.475",
         "0.18",
         "0.9365",
         "0.394",
         "0.219",
         "0.295",
         "15.0",
         "16.5"
        ],
        [
         "29",
         "M",
         "0.575",
         "0.425",
         "0.14",
         "0.8635",
         "0.393",
         "0.227",
         "0.2",
         "11.0",
         "12.5"
        ],
        [
         "30",
         "M",
         "0.58",
         "0.47",
         "0.165",
         "0.9975",
         "0.3935",
         "0.242",
         "0.33",
         "10.0",
         "11.5"
        ],
        [
         "31",
         "F",
         "0.68",
         "0.56",
         "0.165",
         "1.639",
         "0.6055",
         "0.2805",
         "0.46",
         "15.0",
         "16.5"
        ],
        [
         "32",
         "M",
         "0.665",
         "0.525",
         "0.165",
         "1.338",
         "0.5515",
         "0.3575",
         "0.35",
         "18.0",
         "19.5"
        ],
        [
         "33",
         "F",
         "0.68",
         "0.55",
         "0.175",
         "1.798",
         "0.815",
         "0.3925",
         "0.455",
         "19.0",
         "20.5"
        ],
        [
         "34",
         "F",
         "0.705",
         "0.55",
         "0.2",
         "1.7095",
         "0.633",
         "0.4115",
         "0.49",
         "13.0",
         "14.5"
        ],
        [
         "35",
         "M",
         "0.465",
         "0.355",
         "0.105",
         "0.4795",
         "0.227",
         "0.124",
         "0.125",
         "8.0",
         "9.5"
        ],
        [
         "36",
         "F",
         "0.54",
         "0.475",
         "0.155",
         "1.217",
         "0.5305",
         "0.3075",
         "0.34",
         "16.0",
         "17.5"
        ],
        [
         "37",
         "F",
         "0.45",
         "0.355",
         "0.105",
         "0.5225",
         "0.237",
         "0.1165",
         "0.145",
         "8.0",
         "9.5"
        ],
        [
         "38",
         "F",
         "0.575",
         "0.445",
         "0.135",
         "0.883",
         "0.381",
         "0.2035",
         "0.26",
         "11.0",
         "12.5"
        ],
        [
         "39",
         "M",
         "0.355",
         "0.29",
         "0.09",
         "0.3275",
         "0.134",
         null,
         "0.09",
         "9.0",
         "10.5"
        ],
        [
         "40",
         "F",
         "0.45",
         "0.335",
         "0.105",
         "0.425",
         "0.1865",
         "0.091",
         "0.115",
         "9.0",
         "10.5"
        ],
        [
         "41",
         "F",
         "0.55",
         "0.425",
         "0.135",
         "0.8515",
         "0.362",
         "0.196",
         "0.27",
         "14.0",
         "15.5"
        ],
        [
         "42",
         "I",
         "0.24",
         "0.175",
         "0.045",
         "0.07",
         "0.0315",
         "0.0235",
         "0.02",
         "5.0",
         "6.5"
        ],
        [
         "43",
         "I",
         "0.205",
         "0.15",
         "0.055",
         "0.042",
         "0.0255",
         "0.015",
         "0.012",
         "5.0",
         "6.5"
        ],
        [
         "44",
         "I",
         "0.21",
         "0.15",
         "0.05",
         "0.042",
         "0.0175",
         "0.0125",
         "0.015",
         "4.0",
         "5.5"
        ],
        [
         "45",
         "I",
         "0.39",
         "0.295",
         "0.095",
         "0.203",
         "0.0875",
         "0.045",
         "0.075",
         "7.0",
         "8.5"
        ],
        [
         "46",
         "M",
         "0.47",
         "0.37",
         "0.12",
         "0.5795",
         "0.293",
         "0.227",
         "0.14",
         "9.0",
         "10.5"
        ],
        [
         "47",
         "F",
         "0.46",
         "0.375",
         "0.12",
         "0.4605",
         "0.1775",
         "0.11",
         "0.15",
         "7.0",
         "8.5"
        ],
        [
         "48",
         "I",
         "0.325",
         "0.245",
         "0.07",
         "0.161",
         "0.0755",
         "0.0255",
         "0.23316325256057954",
         "6.0",
         "7.5"
        ],
        [
         "49",
         "F",
         "0.525",
         "0.425",
         "0.16",
         "0.8355",
         "0.3545",
         "0.2135",
         null,
         "9.0",
         "10.5"
        ],
        [
         "50",
         "I",
         "0.52",
         "0.41",
         "0.12",
         "0.595",
         "0.2385",
         "0.111",
         "0.19",
         "8.0",
         "9.5"
        ],
        [
         "51",
         "M",
         "0.4",
         "0.32",
         "0.095",
         "0.303",
         "0.1335",
         "0.06",
         null,
         "7.0",
         "8.5"
        ]
       ],
       "shape": {
        "columns": 10,
        "rows": 4041
       }
      },
      "text/html": [
       "<div>\n",
       "<style scoped>\n",
       "    .dataframe tbody tr th:only-of-type {\n",
       "        vertical-align: middle;\n",
       "    }\n",
       "\n",
       "    .dataframe tbody tr th {\n",
       "        vertical-align: top;\n",
       "    }\n",
       "\n",
       "    .dataframe thead th {\n",
       "        text-align: right;\n",
       "    }\n",
       "</style>\n",
       "<table border=\"1\" class=\"dataframe\">\n",
       "  <thead>\n",
       "    <tr style=\"text-align: right;\">\n",
       "      <th></th>\n",
       "      <th>Sex</th>\n",
       "      <th>Length (mm)</th>\n",
       "      <th>Diameter (mm)</th>\n",
       "      <th>Height (mm)</th>\n",
       "      <th>Whole weight (g)</th>\n",
       "      <th>Shucked weight (g)</th>\n",
       "      <th>Viscera weight (g)</th>\n",
       "      <th>Shell weight (g)</th>\n",
       "      <th>Rings</th>\n",
       "      <th>Age (y)</th>\n",
       "    </tr>\n",
       "  </thead>\n",
       "  <tbody>\n",
       "    <tr>\n",
       "      <th>1</th>\n",
       "      <td>M</td>\n",
       "      <td>0.350</td>\n",
       "      <td>0.265</td>\n",
       "      <td>0.090</td>\n",
       "      <td>0.2255</td>\n",
       "      <td>0.0995</td>\n",
       "      <td>0.0485</td>\n",
       "      <td>0.0700</td>\n",
       "      <td>7.000000</td>\n",
       "      <td>8.5</td>\n",
       "    </tr>\n",
       "    <tr>\n",
       "      <th>2</th>\n",
       "      <td>F</td>\n",
       "      <td>0.530</td>\n",
       "      <td>0.420</td>\n",
       "      <td>0.135</td>\n",
       "      <td>0.6770</td>\n",
       "      <td>0.2565</td>\n",
       "      <td>NaN</td>\n",
       "      <td>0.2100</td>\n",
       "      <td>9.000000</td>\n",
       "      <td>10.5</td>\n",
       "    </tr>\n",
       "    <tr>\n",
       "      <th>3</th>\n",
       "      <td>M</td>\n",
       "      <td>0.440</td>\n",
       "      <td>0.365</td>\n",
       "      <td>0.125</td>\n",
       "      <td>0.5160</td>\n",
       "      <td>0.2155</td>\n",
       "      <td>0.1140</td>\n",
       "      <td>0.1550</td>\n",
       "      <td>10.000000</td>\n",
       "      <td>11.5</td>\n",
       "    </tr>\n",
       "    <tr>\n",
       "      <th>4</th>\n",
       "      <td>I</td>\n",
       "      <td>0.330</td>\n",
       "      <td>0.255</td>\n",
       "      <td>0.080</td>\n",
       "      <td>0.2050</td>\n",
       "      <td>0.0895</td>\n",
       "      <td>0.0395</td>\n",
       "      <td>0.0550</td>\n",
       "      <td>7.000000</td>\n",
       "      <td>8.5</td>\n",
       "    </tr>\n",
       "    <tr>\n",
       "      <th>5</th>\n",
       "      <td>I</td>\n",
       "      <td>0.425</td>\n",
       "      <td>0.300</td>\n",
       "      <td>0.095</td>\n",
       "      <td>0.3515</td>\n",
       "      <td>0.1410</td>\n",
       "      <td>0.0775</td>\n",
       "      <td>0.1200</td>\n",
       "      <td>8.000000</td>\n",
       "      <td>9.5</td>\n",
       "    </tr>\n",
       "    <tr>\n",
       "      <th>...</th>\n",
       "      <td>...</td>\n",
       "      <td>...</td>\n",
       "      <td>...</td>\n",
       "      <td>...</td>\n",
       "      <td>...</td>\n",
       "      <td>...</td>\n",
       "      <td>...</td>\n",
       "      <td>...</td>\n",
       "      <td>...</td>\n",
       "      <td>...</td>\n",
       "    </tr>\n",
       "    <tr>\n",
       "      <th>4171</th>\n",
       "      <td>M</td>\n",
       "      <td>0.560</td>\n",
       "      <td>0.430</td>\n",
       "      <td>0.155</td>\n",
       "      <td>0.8675</td>\n",
       "      <td>0.4000</td>\n",
       "      <td>0.1720</td>\n",
       "      <td>0.2290</td>\n",
       "      <td>8.000000</td>\n",
       "      <td>9.5</td>\n",
       "    </tr>\n",
       "    <tr>\n",
       "      <th>4173</th>\n",
       "      <td>M</td>\n",
       "      <td>0.590</td>\n",
       "      <td>0.440</td>\n",
       "      <td>0.135</td>\n",
       "      <td>0.9660</td>\n",
       "      <td>0.4390</td>\n",
       "      <td>0.2145</td>\n",
       "      <td>0.2605</td>\n",
       "      <td>10.000000</td>\n",
       "      <td>11.5</td>\n",
       "    </tr>\n",
       "    <tr>\n",
       "      <th>4174</th>\n",
       "      <td>M</td>\n",
       "      <td>0.600</td>\n",
       "      <td>0.475</td>\n",
       "      <td>0.205</td>\n",
       "      <td>1.1760</td>\n",
       "      <td>0.5255</td>\n",
       "      <td>0.2875</td>\n",
       "      <td>0.3080</td>\n",
       "      <td>9.000000</td>\n",
       "      <td>10.5</td>\n",
       "    </tr>\n",
       "    <tr>\n",
       "      <th>4175</th>\n",
       "      <td>F</td>\n",
       "      <td>0.625</td>\n",
       "      <td>0.485</td>\n",
       "      <td>0.150</td>\n",
       "      <td>1.0945</td>\n",
       "      <td>0.5310</td>\n",
       "      <td>0.2610</td>\n",
       "      <td>0.2960</td>\n",
       "      <td>10.000000</td>\n",
       "      <td>11.5</td>\n",
       "    </tr>\n",
       "    <tr>\n",
       "      <th>4176</th>\n",
       "      <td>M</td>\n",
       "      <td>0.710</td>\n",
       "      <td>0.555</td>\n",
       "      <td>0.195</td>\n",
       "      <td>1.9485</td>\n",
       "      <td>0.9455</td>\n",
       "      <td>0.3765</td>\n",
       "      <td>0.4950</td>\n",
       "      <td>9.733867</td>\n",
       "      <td>13.5</td>\n",
       "    </tr>\n",
       "  </tbody>\n",
       "</table>\n",
       "<p>4041 rows × 10 columns</p>\n",
       "</div>"
      ],
      "text/plain": [
       "     Sex  Length (mm)  Diameter (mm)  Height (mm)  Whole weight (g)  \\\n",
       "1      M        0.350          0.265        0.090            0.2255   \n",
       "2      F        0.530          0.420        0.135            0.6770   \n",
       "3      M        0.440          0.365        0.125            0.5160   \n",
       "4      I        0.330          0.255        0.080            0.2050   \n",
       "5      I        0.425          0.300        0.095            0.3515   \n",
       "...   ..          ...            ...          ...               ...   \n",
       "4171   M        0.560          0.430        0.155            0.8675   \n",
       "4173   M        0.590          0.440        0.135            0.9660   \n",
       "4174   M        0.600          0.475        0.205            1.1760   \n",
       "4175   F        0.625          0.485        0.150            1.0945   \n",
       "4176   M        0.710          0.555        0.195            1.9485   \n",
       "\n",
       "      Shucked weight (g)  Viscera weight (g)  Shell weight (g)      Rings  \\\n",
       "1                 0.0995              0.0485            0.0700   7.000000   \n",
       "2                 0.2565                 NaN            0.2100   9.000000   \n",
       "3                 0.2155              0.1140            0.1550  10.000000   \n",
       "4                 0.0895              0.0395            0.0550   7.000000   \n",
       "5                 0.1410              0.0775            0.1200   8.000000   \n",
       "...                  ...                 ...               ...        ...   \n",
       "4171              0.4000              0.1720            0.2290   8.000000   \n",
       "4173              0.4390              0.2145            0.2605  10.000000   \n",
       "4174              0.5255              0.2875            0.3080   9.000000   \n",
       "4175              0.5310              0.2610            0.2960  10.000000   \n",
       "4176              0.9455              0.3765            0.4950   9.733867   \n",
       "\n",
       "      Age (y)  \n",
       "1         8.5  \n",
       "2        10.5  \n",
       "3        11.5  \n",
       "4         8.5  \n",
       "5         9.5  \n",
       "...       ...  \n",
       "4171      9.5  \n",
       "4173     11.5  \n",
       "4174     10.5  \n",
       "4175     11.5  \n",
       "4176     13.5  \n",
       "\n",
       "[4041 rows x 10 columns]"
      ]
     },
     "execution_count": 20,
     "metadata": {},
     "output_type": "execute_result"
    }
   ],
   "source": [
    "# remove duplicate row if any \n",
    "marine_df.drop_duplicates()"
   ]
  },
  {
   "cell_type": "markdown",
   "id": "8ef4b5f8",
   "metadata": {},
   "source": [
    "<span style='color:rgb(5, 51, 42)'> IN CONCLUSION, there's no duplicates obsereved in the whole dataset </span>"
   ]
  },
  {
   "cell_type": "markdown",
   "id": "18cf0f76",
   "metadata": {},
   "source": [
    "## DESCRPIPTVE ANALYSIS. \n"
   ]
  },
  {
   "cell_type": "code",
   "execution_count": 21,
   "id": "d876eaa1",
   "metadata": {},
   "outputs": [
    {
     "name": "stdout",
     "output_type": "stream",
     "text": [
      "Statistical Summary:\n"
     ]
    },
    {
     "data": {
      "application/vnd.microsoft.datawrangler.viewer.v0+json": {
       "columns": [
        {
         "name": "index",
         "rawType": "object",
         "type": "string"
        },
        {
         "name": "Length (mm)",
         "rawType": "float64",
         "type": "float"
        },
        {
         "name": "Diameter (mm)",
         "rawType": "float64",
         "type": "float"
        },
        {
         "name": "Height (mm)",
         "rawType": "float64",
         "type": "float"
        },
        {
         "name": "Whole weight (g)",
         "rawType": "float64",
         "type": "float"
        },
        {
         "name": "Shucked weight (g)",
         "rawType": "float64",
         "type": "float"
        },
        {
         "name": "Viscera weight (g)",
         "rawType": "float64",
         "type": "float"
        },
        {
         "name": "Shell weight (g)",
         "rawType": "float64",
         "type": "float"
        },
        {
         "name": "Rings",
         "rawType": "float64",
         "type": "float"
        },
        {
         "name": "Age (y)",
         "rawType": "float64",
         "type": "float"
        }
       ],
       "ref": "b098af74-5da2-49eb-a93a-84fb70cad135",
       "rows": [
        [
         "count",
         "4041.0",
         "4041.0",
         "4041.0",
         "4041.0",
         "4041.0",
         "4041.0",
         "4041.0",
         "4041.0",
         "4041.0"
        ],
        [
         "mean",
         "0.5237775303142786",
         "0.4077889136352388",
         "0.13934669636228655",
         "0.8278570041094258",
         "0.35767353947876956",
         "0.17978752627789052",
         "0.23820681358567808",
         "9.910972932643011",
         "11.407930576737304"
        ],
        [
         "std",
         "0.11982615398216105",
         "0.09924812508308475",
         "0.04190815416767591",
         "0.48408991152107045",
         "0.21968589807177827",
         "0.10845772402079631",
         "0.13817026544324082",
         "3.1919025122854348",
         "3.1861398656505457"
        ],
        [
         "min",
         "0.075",
         "0.055",
         "0.0",
         "0.002",
         "0.001",
         "0.0005",
         "0.0015",
         "1.0",
         "2.5"
        ],
        [
         "25%",
         "0.45",
         "0.35",
         "0.115",
         "0.449",
         "0.1865",
         "0.094",
         "0.131",
         "8.0",
         "9.5"
        ],
        [
         "50%",
         "0.545",
         "0.425",
         "0.14",
         "0.8082634140254554",
         "0.339",
         "0.1715",
         "0.23316325256057954",
         "9.733866933466734",
         "11.158493870402802"
        ],
        [
         "75%",
         "0.615",
         "0.48",
         "0.165",
         "1.1445",
         "0.4985",
         "0.249",
         "0.325",
         "11.0",
         "12.5"
        ],
        [
         "max",
         "0.815",
         "0.65",
         "1.13",
         "2.8255",
         "1.488",
         "0.76",
         "1.005",
         "27.0",
         "28.5"
        ]
       ],
       "shape": {
        "columns": 9,
        "rows": 8
       }
      },
      "text/html": [
       "<div>\n",
       "<style scoped>\n",
       "    .dataframe tbody tr th:only-of-type {\n",
       "        vertical-align: middle;\n",
       "    }\n",
       "\n",
       "    .dataframe tbody tr th {\n",
       "        vertical-align: top;\n",
       "    }\n",
       "\n",
       "    .dataframe thead th {\n",
       "        text-align: right;\n",
       "    }\n",
       "</style>\n",
       "<table border=\"1\" class=\"dataframe\">\n",
       "  <thead>\n",
       "    <tr style=\"text-align: right;\">\n",
       "      <th></th>\n",
       "      <th>Length (mm)</th>\n",
       "      <th>Diameter (mm)</th>\n",
       "      <th>Height (mm)</th>\n",
       "      <th>Whole weight (g)</th>\n",
       "      <th>Shucked weight (g)</th>\n",
       "      <th>Viscera weight (g)</th>\n",
       "      <th>Shell weight (g)</th>\n",
       "      <th>Rings</th>\n",
       "      <th>Age (y)</th>\n",
       "    </tr>\n",
       "  </thead>\n",
       "  <tbody>\n",
       "    <tr>\n",
       "      <th>count</th>\n",
       "      <td>4041.000000</td>\n",
       "      <td>4041.000000</td>\n",
       "      <td>4041.000000</td>\n",
       "      <td>4041.000000</td>\n",
       "      <td>4041.000000</td>\n",
       "      <td>4041.000000</td>\n",
       "      <td>4041.000000</td>\n",
       "      <td>4041.000000</td>\n",
       "      <td>4041.000000</td>\n",
       "    </tr>\n",
       "    <tr>\n",
       "      <th>mean</th>\n",
       "      <td>0.523778</td>\n",
       "      <td>0.407789</td>\n",
       "      <td>0.139347</td>\n",
       "      <td>0.827857</td>\n",
       "      <td>0.357674</td>\n",
       "      <td>0.179788</td>\n",
       "      <td>0.238207</td>\n",
       "      <td>9.910973</td>\n",
       "      <td>11.407931</td>\n",
       "    </tr>\n",
       "    <tr>\n",
       "      <th>std</th>\n",
       "      <td>0.119826</td>\n",
       "      <td>0.099248</td>\n",
       "      <td>0.041908</td>\n",
       "      <td>0.484090</td>\n",
       "      <td>0.219686</td>\n",
       "      <td>0.108458</td>\n",
       "      <td>0.138170</td>\n",
       "      <td>3.191903</td>\n",
       "      <td>3.186140</td>\n",
       "    </tr>\n",
       "    <tr>\n",
       "      <th>min</th>\n",
       "      <td>0.075000</td>\n",
       "      <td>0.055000</td>\n",
       "      <td>0.000000</td>\n",
       "      <td>0.002000</td>\n",
       "      <td>0.001000</td>\n",
       "      <td>0.000500</td>\n",
       "      <td>0.001500</td>\n",
       "      <td>1.000000</td>\n",
       "      <td>2.500000</td>\n",
       "    </tr>\n",
       "    <tr>\n",
       "      <th>25%</th>\n",
       "      <td>0.450000</td>\n",
       "      <td>0.350000</td>\n",
       "      <td>0.115000</td>\n",
       "      <td>0.449000</td>\n",
       "      <td>0.186500</td>\n",
       "      <td>0.094000</td>\n",
       "      <td>0.131000</td>\n",
       "      <td>8.000000</td>\n",
       "      <td>9.500000</td>\n",
       "    </tr>\n",
       "    <tr>\n",
       "      <th>50%</th>\n",
       "      <td>0.545000</td>\n",
       "      <td>0.425000</td>\n",
       "      <td>0.140000</td>\n",
       "      <td>0.808263</td>\n",
       "      <td>0.339000</td>\n",
       "      <td>0.171500</td>\n",
       "      <td>0.233163</td>\n",
       "      <td>9.733867</td>\n",
       "      <td>11.158494</td>\n",
       "    </tr>\n",
       "    <tr>\n",
       "      <th>75%</th>\n",
       "      <td>0.615000</td>\n",
       "      <td>0.480000</td>\n",
       "      <td>0.165000</td>\n",
       "      <td>1.144500</td>\n",
       "      <td>0.498500</td>\n",
       "      <td>0.249000</td>\n",
       "      <td>0.325000</td>\n",
       "      <td>11.000000</td>\n",
       "      <td>12.500000</td>\n",
       "    </tr>\n",
       "    <tr>\n",
       "      <th>max</th>\n",
       "      <td>0.815000</td>\n",
       "      <td>0.650000</td>\n",
       "      <td>1.130000</td>\n",
       "      <td>2.825500</td>\n",
       "      <td>1.488000</td>\n",
       "      <td>0.760000</td>\n",
       "      <td>1.005000</td>\n",
       "      <td>27.000000</td>\n",
       "      <td>28.500000</td>\n",
       "    </tr>\n",
       "  </tbody>\n",
       "</table>\n",
       "</div>"
      ],
      "text/plain": [
       "       Length (mm)  Diameter (mm)  Height (mm)  Whole weight (g)  \\\n",
       "count  4041.000000    4041.000000  4041.000000       4041.000000   \n",
       "mean      0.523778       0.407789     0.139347          0.827857   \n",
       "std       0.119826       0.099248     0.041908          0.484090   \n",
       "min       0.075000       0.055000     0.000000          0.002000   \n",
       "25%       0.450000       0.350000     0.115000          0.449000   \n",
       "50%       0.545000       0.425000     0.140000          0.808263   \n",
       "75%       0.615000       0.480000     0.165000          1.144500   \n",
       "max       0.815000       0.650000     1.130000          2.825500   \n",
       "\n",
       "       Shucked weight (g)  Viscera weight (g)  Shell weight (g)        Rings  \\\n",
       "count         4041.000000         4041.000000       4041.000000  4041.000000   \n",
       "mean             0.357674            0.179788          0.238207     9.910973   \n",
       "std              0.219686            0.108458          0.138170     3.191903   \n",
       "min              0.001000            0.000500          0.001500     1.000000   \n",
       "25%              0.186500            0.094000          0.131000     8.000000   \n",
       "50%              0.339000            0.171500          0.233163     9.733867   \n",
       "75%              0.498500            0.249000          0.325000    11.000000   \n",
       "max              1.488000            0.760000          1.005000    27.000000   \n",
       "\n",
       "           Age (y)  \n",
       "count  4041.000000  \n",
       "mean     11.407931  \n",
       "std       3.186140  \n",
       "min       2.500000  \n",
       "25%       9.500000  \n",
       "50%      11.158494  \n",
       "75%      12.500000  \n",
       "max      28.500000  "
      ]
     },
     "metadata": {},
     "output_type": "display_data"
    }
   ],
   "source": [
    "# Descriptive statistic\n",
    "print(\"Statistical Summary:\")\n",
    "display(num_df.describe())\n"
   ]
  },
  {
   "cell_type": "markdown",
   "id": "d633e6d6",
   "metadata": {},
   "source": [
    "### Handling Outliers\n",
    "\n",
    "- Focus on num_df meaning numerical data types, identifying the key outliers can be a key significantly impact for analysis later on \n",
    "\n",
    "- We'll use <span style='color:rgb(26, 127, 107)'> the Interquartile Range (IQR) method </span> to identify outliers in these variables. The IQR method is robust as it defines outliers based on the statistical spread of the data."
   ]
  },
  {
   "cell_type": "code",
   "execution_count": 22,
   "id": "6f1960b3",
   "metadata": {},
   "outputs": [],
   "source": [
    "# Calculate IQR for numerical data_ choosing key metrics: AGE\n",
    "Q1_age = num_df['Age (y)'].quantile(0.25)\n",
    "Q3_age = num_df['Age (y)'].quantile(0.75)\n",
    "IQR_age = Q3_age - Q1_age"
   ]
  },
  {
   "cell_type": "code",
   "execution_count": 23,
   "id": "8943ba54",
   "metadata": {},
   "outputs": [
    {
     "data": {
      "application/vnd.microsoft.datawrangler.viewer.v0+json": {
       "columns": [
        {
         "name": "index",
         "rawType": "int64",
         "type": "integer"
        },
        {
         "name": "Length (mm)",
         "rawType": "float64",
         "type": "float"
        },
        {
         "name": "Diameter (mm)",
         "rawType": "float64",
         "type": "float"
        },
        {
         "name": "Height (mm)",
         "rawType": "float64",
         "type": "float"
        },
        {
         "name": "Whole weight (g)",
         "rawType": "float64",
         "type": "float"
        },
        {
         "name": "Shucked weight (g)",
         "rawType": "float64",
         "type": "float"
        },
        {
         "name": "Viscera weight (g)",
         "rawType": "float64",
         "type": "float"
        },
        {
         "name": "Shell weight (g)",
         "rawType": "float64",
         "type": "float"
        },
        {
         "name": "Rings",
         "rawType": "float64",
         "type": "float"
        },
        {
         "name": "Age (y)",
         "rawType": "float64",
         "type": "float"
        }
       ],
       "ref": "439ed9ec-8b04-4010-9804-63e39c465bd0",
       "rows": [
        [
         "6",
         "0.53",
         "0.415",
         "0.15",
         "0.7775",
         "0.237",
         "0.1415",
         "0.33",
         "20.0",
         "21.5"
        ],
        [
         "7",
         "0.545",
         "0.425",
         "0.125",
         "0.768",
         "0.294",
         "0.1495",
         "0.26",
         "16.0",
         "17.5"
        ],
        [
         "9",
         "0.55",
         "0.44",
         "0.15",
         "0.8945",
         "0.3145",
         "0.151",
         "0.32",
         "19.0",
         "20.5"
        ],
        [
         "32",
         "0.665",
         "0.525",
         "0.165",
         "1.338",
         "0.5515",
         "0.3575",
         "0.35",
         "18.0",
         "19.5"
        ],
        [
         "33",
         "0.68",
         "0.55",
         "0.175",
         "1.798",
         "0.815",
         "0.3925",
         "0.455",
         "19.0",
         "20.5"
        ],
        [
         "36",
         "0.54",
         "0.475",
         "0.155",
         "1.217",
         "0.5305",
         "0.3075",
         "0.34",
         "16.0",
         "17.5"
        ],
        [
         "72",
         "0.595",
         "0.475",
         "0.17",
         "1.247",
         "0.48",
         "0.225",
         "0.23316325256057954",
         "20.0",
         "21.5"
        ],
        [
         "82",
         "0.52",
         "0.425",
         "0.165",
         "0.9885",
         "0.396",
         "0.225",
         "0.32",
         "16.0",
         "17.5"
        ],
        [
         "83",
         "0.595",
         "0.475",
         "0.16",
         "1.3175",
         "0.408",
         "0.234",
         "0.58",
         "21.0",
         "22.5"
        ],
        [
         "128",
         "0.7",
         "0.535",
         "0.16",
         "1.7255",
         "0.63",
         "0.2635",
         "0.54",
         "19.0",
         "20.5"
        ],
        [
         "129",
         "0.71",
         "0.54",
         "0.165",
         "1.959",
         "0.7665",
         "0.261",
         "0.78",
         "18.0",
         "19.5"
        ],
        [
         "130",
         "0.595",
         "0.48",
         "0.165",
         "1.262",
         "0.4835",
         "0.283",
         "0.41",
         "17.0",
         "18.5"
        ],
        [
         "157",
         "0.645",
         "0.485",
         "0.215",
         "1.514",
         "0.546",
         "0.2615",
         "0.635",
         "16.0",
         "17.5"
        ],
        [
         "163",
         "0.725",
         "0.56",
         "0.21",
         "2.141",
         "0.3517992509363296",
         "0.398",
         "1.005",
         "18.0",
         "19.5"
        ],
        [
         "164",
         "0.65",
         "0.545",
         "0.23",
         "1.752",
         "0.5605",
         "0.2895",
         "0.815",
         "16.0",
         "17.5"
        ]
       ],
       "shape": {
        "columns": 9,
        "rows": 15
       }
      },
      "text/html": [
       "<div>\n",
       "<style scoped>\n",
       "    .dataframe tbody tr th:only-of-type {\n",
       "        vertical-align: middle;\n",
       "    }\n",
       "\n",
       "    .dataframe tbody tr th {\n",
       "        vertical-align: top;\n",
       "    }\n",
       "\n",
       "    .dataframe thead th {\n",
       "        text-align: right;\n",
       "    }\n",
       "</style>\n",
       "<table border=\"1\" class=\"dataframe\">\n",
       "  <thead>\n",
       "    <tr style=\"text-align: right;\">\n",
       "      <th></th>\n",
       "      <th>Length (mm)</th>\n",
       "      <th>Diameter (mm)</th>\n",
       "      <th>Height (mm)</th>\n",
       "      <th>Whole weight (g)</th>\n",
       "      <th>Shucked weight (g)</th>\n",
       "      <th>Viscera weight (g)</th>\n",
       "      <th>Shell weight (g)</th>\n",
       "      <th>Rings</th>\n",
       "      <th>Age (y)</th>\n",
       "    </tr>\n",
       "  </thead>\n",
       "  <tbody>\n",
       "    <tr>\n",
       "      <th>6</th>\n",
       "      <td>0.530</td>\n",
       "      <td>0.415</td>\n",
       "      <td>0.150</td>\n",
       "      <td>0.7775</td>\n",
       "      <td>0.237000</td>\n",
       "      <td>0.1415</td>\n",
       "      <td>0.330000</td>\n",
       "      <td>20.0</td>\n",
       "      <td>21.5</td>\n",
       "    </tr>\n",
       "    <tr>\n",
       "      <th>7</th>\n",
       "      <td>0.545</td>\n",
       "      <td>0.425</td>\n",
       "      <td>0.125</td>\n",
       "      <td>0.7680</td>\n",
       "      <td>0.294000</td>\n",
       "      <td>0.1495</td>\n",
       "      <td>0.260000</td>\n",
       "      <td>16.0</td>\n",
       "      <td>17.5</td>\n",
       "    </tr>\n",
       "    <tr>\n",
       "      <th>9</th>\n",
       "      <td>0.550</td>\n",
       "      <td>0.440</td>\n",
       "      <td>0.150</td>\n",
       "      <td>0.8945</td>\n",
       "      <td>0.314500</td>\n",
       "      <td>0.1510</td>\n",
       "      <td>0.320000</td>\n",
       "      <td>19.0</td>\n",
       "      <td>20.5</td>\n",
       "    </tr>\n",
       "    <tr>\n",
       "      <th>32</th>\n",
       "      <td>0.665</td>\n",
       "      <td>0.525</td>\n",
       "      <td>0.165</td>\n",
       "      <td>1.3380</td>\n",
       "      <td>0.551500</td>\n",
       "      <td>0.3575</td>\n",
       "      <td>0.350000</td>\n",
       "      <td>18.0</td>\n",
       "      <td>19.5</td>\n",
       "    </tr>\n",
       "    <tr>\n",
       "      <th>33</th>\n",
       "      <td>0.680</td>\n",
       "      <td>0.550</td>\n",
       "      <td>0.175</td>\n",
       "      <td>1.7980</td>\n",
       "      <td>0.815000</td>\n",
       "      <td>0.3925</td>\n",
       "      <td>0.455000</td>\n",
       "      <td>19.0</td>\n",
       "      <td>20.5</td>\n",
       "    </tr>\n",
       "    <tr>\n",
       "      <th>36</th>\n",
       "      <td>0.540</td>\n",
       "      <td>0.475</td>\n",
       "      <td>0.155</td>\n",
       "      <td>1.2170</td>\n",
       "      <td>0.530500</td>\n",
       "      <td>0.3075</td>\n",
       "      <td>0.340000</td>\n",
       "      <td>16.0</td>\n",
       "      <td>17.5</td>\n",
       "    </tr>\n",
       "    <tr>\n",
       "      <th>72</th>\n",
       "      <td>0.595</td>\n",
       "      <td>0.475</td>\n",
       "      <td>0.170</td>\n",
       "      <td>1.2470</td>\n",
       "      <td>0.480000</td>\n",
       "      <td>0.2250</td>\n",
       "      <td>0.233163</td>\n",
       "      <td>20.0</td>\n",
       "      <td>21.5</td>\n",
       "    </tr>\n",
       "    <tr>\n",
       "      <th>82</th>\n",
       "      <td>0.520</td>\n",
       "      <td>0.425</td>\n",
       "      <td>0.165</td>\n",
       "      <td>0.9885</td>\n",
       "      <td>0.396000</td>\n",
       "      <td>0.2250</td>\n",
       "      <td>0.320000</td>\n",
       "      <td>16.0</td>\n",
       "      <td>17.5</td>\n",
       "    </tr>\n",
       "    <tr>\n",
       "      <th>83</th>\n",
       "      <td>0.595</td>\n",
       "      <td>0.475</td>\n",
       "      <td>0.160</td>\n",
       "      <td>1.3175</td>\n",
       "      <td>0.408000</td>\n",
       "      <td>0.2340</td>\n",
       "      <td>0.580000</td>\n",
       "      <td>21.0</td>\n",
       "      <td>22.5</td>\n",
       "    </tr>\n",
       "    <tr>\n",
       "      <th>128</th>\n",
       "      <td>0.700</td>\n",
       "      <td>0.535</td>\n",
       "      <td>0.160</td>\n",
       "      <td>1.7255</td>\n",
       "      <td>0.630000</td>\n",
       "      <td>0.2635</td>\n",
       "      <td>0.540000</td>\n",
       "      <td>19.0</td>\n",
       "      <td>20.5</td>\n",
       "    </tr>\n",
       "    <tr>\n",
       "      <th>129</th>\n",
       "      <td>0.710</td>\n",
       "      <td>0.540</td>\n",
       "      <td>0.165</td>\n",
       "      <td>1.9590</td>\n",
       "      <td>0.766500</td>\n",
       "      <td>0.2610</td>\n",
       "      <td>0.780000</td>\n",
       "      <td>18.0</td>\n",
       "      <td>19.5</td>\n",
       "    </tr>\n",
       "    <tr>\n",
       "      <th>130</th>\n",
       "      <td>0.595</td>\n",
       "      <td>0.480</td>\n",
       "      <td>0.165</td>\n",
       "      <td>1.2620</td>\n",
       "      <td>0.483500</td>\n",
       "      <td>0.2830</td>\n",
       "      <td>0.410000</td>\n",
       "      <td>17.0</td>\n",
       "      <td>18.5</td>\n",
       "    </tr>\n",
       "    <tr>\n",
       "      <th>157</th>\n",
       "      <td>0.645</td>\n",
       "      <td>0.485</td>\n",
       "      <td>0.215</td>\n",
       "      <td>1.5140</td>\n",
       "      <td>0.546000</td>\n",
       "      <td>0.2615</td>\n",
       "      <td>0.635000</td>\n",
       "      <td>16.0</td>\n",
       "      <td>17.5</td>\n",
       "    </tr>\n",
       "    <tr>\n",
       "      <th>163</th>\n",
       "      <td>0.725</td>\n",
       "      <td>0.560</td>\n",
       "      <td>0.210</td>\n",
       "      <td>2.1410</td>\n",
       "      <td>0.351799</td>\n",
       "      <td>0.3980</td>\n",
       "      <td>1.005000</td>\n",
       "      <td>18.0</td>\n",
       "      <td>19.5</td>\n",
       "    </tr>\n",
       "    <tr>\n",
       "      <th>164</th>\n",
       "      <td>0.650</td>\n",
       "      <td>0.545</td>\n",
       "      <td>0.230</td>\n",
       "      <td>1.7520</td>\n",
       "      <td>0.560500</td>\n",
       "      <td>0.2895</td>\n",
       "      <td>0.815000</td>\n",
       "      <td>16.0</td>\n",
       "      <td>17.5</td>\n",
       "    </tr>\n",
       "  </tbody>\n",
       "</table>\n",
       "</div>"
      ],
      "text/plain": [
       "     Length (mm)  Diameter (mm)  Height (mm)  Whole weight (g)  \\\n",
       "6          0.530          0.415        0.150            0.7775   \n",
       "7          0.545          0.425        0.125            0.7680   \n",
       "9          0.550          0.440        0.150            0.8945   \n",
       "32         0.665          0.525        0.165            1.3380   \n",
       "33         0.680          0.550        0.175            1.7980   \n",
       "36         0.540          0.475        0.155            1.2170   \n",
       "72         0.595          0.475        0.170            1.2470   \n",
       "82         0.520          0.425        0.165            0.9885   \n",
       "83         0.595          0.475        0.160            1.3175   \n",
       "128        0.700          0.535        0.160            1.7255   \n",
       "129        0.710          0.540        0.165            1.9590   \n",
       "130        0.595          0.480        0.165            1.2620   \n",
       "157        0.645          0.485        0.215            1.5140   \n",
       "163        0.725          0.560        0.210            2.1410   \n",
       "164        0.650          0.545        0.230            1.7520   \n",
       "\n",
       "     Shucked weight (g)  Viscera weight (g)  Shell weight (g)  Rings  Age (y)  \n",
       "6              0.237000              0.1415          0.330000   20.0     21.5  \n",
       "7              0.294000              0.1495          0.260000   16.0     17.5  \n",
       "9              0.314500              0.1510          0.320000   19.0     20.5  \n",
       "32             0.551500              0.3575          0.350000   18.0     19.5  \n",
       "33             0.815000              0.3925          0.455000   19.0     20.5  \n",
       "36             0.530500              0.3075          0.340000   16.0     17.5  \n",
       "72             0.480000              0.2250          0.233163   20.0     21.5  \n",
       "82             0.396000              0.2250          0.320000   16.0     17.5  \n",
       "83             0.408000              0.2340          0.580000   21.0     22.5  \n",
       "128            0.630000              0.2635          0.540000   19.0     20.5  \n",
       "129            0.766500              0.2610          0.780000   18.0     19.5  \n",
       "130            0.483500              0.2830          0.410000   17.0     18.5  \n",
       "157            0.546000              0.2615          0.635000   16.0     17.5  \n",
       "163            0.351799              0.3980          1.005000   18.0     19.5  \n",
       "164            0.560500              0.2895          0.815000   16.0     17.5  "
      ]
     },
     "execution_count": 23,
     "metadata": {},
     "output_type": "execute_result"
    }
   ],
   "source": [
    "#Define those values which is out of normal range \n",
    "outlier_age = num_df[\n",
    "    (num_df['Age (y)'] < (Q1_age - 1.5*IQR_age)) | \n",
    "    (num_df['Age (y)'] > (Q3_age + 1.5*IQR_age))\n",
    "                     ]\n",
    "outlier_age.head(15)"
   ]
  },
  {
   "cell_type": "code",
   "execution_count": 24,
   "id": "e7ea51cc",
   "metadata": {},
   "outputs": [
    {
     "data": {
      "application/vnd.microsoft.datawrangler.viewer.v0+json": {
       "columns": [
        {
         "name": "index",
         "rawType": "int64",
         "type": "integer"
        },
        {
         "name": "Age (y)",
         "rawType": "float64",
         "type": "float"
        }
       ],
       "ref": "7fbe0357-a790-475e-8365-056e82caa7bf",
       "rows": [
        [
         "1",
         "8.5"
        ],
        [
         "2",
         "10.5"
        ],
        [
         "3",
         "11.5"
        ],
        [
         "4",
         "8.5"
        ],
        [
         "5",
         "9.5"
        ],
        [
         "6",
         "21.5"
        ],
        [
         "7",
         "17.5"
        ],
        [
         "8",
         "10.5"
        ],
        [
         "9",
         "20.5"
        ],
        [
         "10",
         "15.5"
        ],
        [
         "11",
         "11.5"
        ],
        [
         "12",
         "12.5"
        ],
        [
         "13",
         "11.5"
        ],
        [
         "15",
         "13.5"
        ],
        [
         "16",
         "8.5"
        ],
        [
         "17",
         "11.5"
        ],
        [
         "18",
         "8.5"
        ],
        [
         "19",
         "10.5"
        ],
        [
         "20",
         "12.5"
        ],
        [
         "21",
         "11.5"
        ],
        [
         "22",
         "13.5"
        ],
        [
         "23",
         "10.5"
        ],
        [
         "24",
         "11.5"
        ],
        [
         "25",
         "12.5"
        ],
        [
         "26",
         "12.5"
        ],
        [
         "27",
         "13.5"
        ],
        [
         "28",
         "16.5"
        ],
        [
         "29",
         "12.5"
        ],
        [
         "30",
         "11.5"
        ],
        [
         "31",
         "16.5"
        ],
        [
         "32",
         "19.5"
        ],
        [
         "33",
         "20.5"
        ],
        [
         "34",
         "14.5"
        ],
        [
         "35",
         "9.5"
        ],
        [
         "36",
         "17.5"
        ],
        [
         "37",
         "9.5"
        ],
        [
         "38",
         "12.5"
        ],
        [
         "39",
         "10.5"
        ],
        [
         "40",
         "10.5"
        ],
        [
         "41",
         "15.5"
        ],
        [
         "42",
         "6.5"
        ],
        [
         "43",
         "6.5"
        ],
        [
         "44",
         "5.5"
        ],
        [
         "45",
         "8.5"
        ],
        [
         "46",
         "10.5"
        ],
        [
         "47",
         "8.5"
        ],
        [
         "48",
         "7.5"
        ],
        [
         "49",
         "10.5"
        ],
        [
         "50",
         "9.5"
        ],
        [
         "51",
         "8.5"
        ]
       ],
       "shape": {
        "columns": 1,
        "rows": 4041
       }
      },
      "text/plain": [
       "1        8.5\n",
       "2       10.5\n",
       "3       11.5\n",
       "4        8.5\n",
       "5        9.5\n",
       "        ... \n",
       "4171     9.5\n",
       "4173    11.5\n",
       "4174    10.5\n",
       "4175    11.5\n",
       "4176    13.5\n",
       "Name: Age (y), Length: 4041, dtype: float64"
      ]
     },
     "execution_count": 24,
     "metadata": {},
     "output_type": "execute_result"
    }
   ],
   "source": [
    "marine_df['Age (y)']"
   ]
  },
  {
   "cell_type": "code",
   "execution_count": 42,
   "id": "ef736644",
   "metadata": {},
   "outputs": [
    {
     "data": {
      "image/png": "[encoded data removed]",
      "text/plain": [
       "<Figure size 1040x640 with 1 Axes>"
      ]
     },
     "metadata": {},
     "output_type": "display_data"
    }
   ],
   "source": [
    "# Create a boxplot for age columns\n",
    "plt.figure(figsize=(10.4,6.4))\n",
    "plt.boxplot(num_df['Age (y)'])\n",
    "plt.title('Box Plot of Age Measurements', color= \"#0c483c\")\n",
    "plt.ylabel('Age', color='#0e6655')\n",
    "plt.grid(True)\n",
    "plt.show()"
   ]
  },
  {
   "cell_type": "code",
   "execution_count": 26,
   "id": "1346ea37",
   "metadata": {},
   "outputs": [
    {
     "name": "stdout",
     "output_type": "stream",
     "text": [
      "Total outlier values exist currently in our dataset: 264\n"
     ]
    }
   ],
   "source": [
    "# Display the number of outliers detected\n",
    "print('Total outlier values exist currently in our dataset:', outlier_age.shape[0])"
   ]
  },
  {
   "cell_type": "markdown",
   "id": "c8257ea1",
   "metadata": {},
   "source": [
    "## TASK 3: Numerical analysis [10 marks]\n",
    "a. Using NumPy techniques, pick two or more numerical valued columns in the dataset and find the mean, median and standard deviation of the data.\n",
    "\n",
    "b. In your report.pdf file, add a section named “Numerical Analysis”. Include a table showing the generated statistical information. Add 3-4 sentences that describe what the numbers you have calculated above mean in the context of the data."
   ]
  },
  {
   "cell_type": "code",
   "execution_count": 27,
   "id": "b94f6b60",
   "metadata": {},
   "outputs": [
    {
     "name": "stdout",
     "output_type": "stream",
     "text": [
      "Descriptive analysis table for 4 numerical variables:\n"
     ]
    },
    {
     "data": {
      "application/vnd.microsoft.datawrangler.viewer.v0+json": {
       "columns": [
        {
         "name": "index",
         "rawType": "object",
         "type": "string"
        },
        {
         "name": "Height (mm)",
         "rawType": "float64",
         "type": "float"
        },
        {
         "name": "Whole weight (g)",
         "rawType": "float64",
         "type": "float"
        },
        {
         "name": "Age (y)",
         "rawType": "float64",
         "type": "float"
        },
        {
         "name": "Rings",
         "rawType": "float64",
         "type": "float"
        }
       ],
       "ref": "f57751e4-6934-4047-a1da-368fc012ee25",
       "rows": [
        [
         "count",
         "4041.0",
         "4041.0",
         "4041.0",
         "4041.0"
        ],
        [
         "mean",
         "0.13934669636228655",
         "0.8278570041094258",
         "11.407930576737304",
         "9.910972932643011"
        ],
        [
         "std",
         "0.04190815416767591",
         "0.48408991152107045",
         "3.1861398656505457",
         "3.1919025122854348"
        ],
        [
         "min",
         "0.0",
         "0.002",
         "2.5",
         "1.0"
        ],
        [
         "25%",
         "0.115",
         "0.449",
         "9.5",
         "8.0"
        ],
        [
         "50%",
         "0.14",
         "0.8082634140254554",
         "11.158493870402802",
         "9.733866933466734"
        ],
        [
         "75%",
         "0.165",
         "1.1445",
         "12.5",
         "11.0"
        ],
        [
         "max",
         "1.13",
         "2.8255",
         "28.5",
         "27.0"
        ]
       ],
       "shape": {
        "columns": 4,
        "rows": 8
       }
      },
      "text/html": [
       "<div>\n",
       "<style scoped>\n",
       "    .dataframe tbody tr th:only-of-type {\n",
       "        vertical-align: middle;\n",
       "    }\n",
       "\n",
       "    .dataframe tbody tr th {\n",
       "        vertical-align: top;\n",
       "    }\n",
       "\n",
       "    .dataframe thead th {\n",
       "        text-align: right;\n",
       "    }\n",
       "</style>\n",
       "<table border=\"1\" class=\"dataframe\">\n",
       "  <thead>\n",
       "    <tr style=\"text-align: right;\">\n",
       "      <th></th>\n",
       "      <th>Height (mm)</th>\n",
       "      <th>Whole weight (g)</th>\n",
       "      <th>Age (y)</th>\n",
       "      <th>Rings</th>\n",
       "    </tr>\n",
       "  </thead>\n",
       "  <tbody>\n",
       "    <tr>\n",
       "      <th>count</th>\n",
       "      <td>4041.000000</td>\n",
       "      <td>4041.000000</td>\n",
       "      <td>4041.000000</td>\n",
       "      <td>4041.000000</td>\n",
       "    </tr>\n",
       "    <tr>\n",
       "      <th>mean</th>\n",
       "      <td>0.139347</td>\n",
       "      <td>0.827857</td>\n",
       "      <td>11.407931</td>\n",
       "      <td>9.910973</td>\n",
       "    </tr>\n",
       "    <tr>\n",
       "      <th>std</th>\n",
       "      <td>0.041908</td>\n",
       "      <td>0.484090</td>\n",
       "      <td>3.186140</td>\n",
       "      <td>3.191903</td>\n",
       "    </tr>\n",
       "    <tr>\n",
       "      <th>min</th>\n",
       "      <td>0.000000</td>\n",
       "      <td>0.002000</td>\n",
       "      <td>2.500000</td>\n",
       "      <td>1.000000</td>\n",
       "    </tr>\n",
       "    <tr>\n",
       "      <th>25%</th>\n",
       "      <td>0.115000</td>\n",
       "      <td>0.449000</td>\n",
       "      <td>9.500000</td>\n",
       "      <td>8.000000</td>\n",
       "    </tr>\n",
       "    <tr>\n",
       "      <th>50%</th>\n",
       "      <td>0.140000</td>\n",
       "      <td>0.808263</td>\n",
       "      <td>11.158494</td>\n",
       "      <td>9.733867</td>\n",
       "    </tr>\n",
       "    <tr>\n",
       "      <th>75%</th>\n",
       "      <td>0.165000</td>\n",
       "      <td>1.144500</td>\n",
       "      <td>12.500000</td>\n",
       "      <td>11.000000</td>\n",
       "    </tr>\n",
       "    <tr>\n",
       "      <th>max</th>\n",
       "      <td>1.130000</td>\n",
       "      <td>2.825500</td>\n",
       "      <td>28.500000</td>\n",
       "      <td>27.000000</td>\n",
       "    </tr>\n",
       "  </tbody>\n",
       "</table>\n",
       "</div>"
      ],
      "text/plain": [
       "       Height (mm)  Whole weight (g)      Age (y)        Rings\n",
       "count  4041.000000       4041.000000  4041.000000  4041.000000\n",
       "mean      0.139347          0.827857    11.407931     9.910973\n",
       "std       0.041908          0.484090     3.186140     3.191903\n",
       "min       0.000000          0.002000     2.500000     1.000000\n",
       "25%       0.115000          0.449000     9.500000     8.000000\n",
       "50%       0.140000          0.808263    11.158494     9.733867\n",
       "75%       0.165000          1.144500    12.500000    11.000000\n",
       "max       1.130000          2.825500    28.500000    27.000000"
      ]
     },
     "metadata": {},
     "output_type": "display_data"
    }
   ],
   "source": [
    "#Choosing four main numeric values for numerical analyis task:\n",
    "main_cols = ['Height (mm)', 'Whole weight (g)', 'Age (y)', 'Rings']\n",
    "print('Descriptive analysis table for 4 numerical variables:')\n",
    "display(num_df[main_cols].describe())"
   ]
  },
  {
   "cell_type": "code",
   "execution_count": 28,
   "id": "8d80d410",
   "metadata": {},
   "outputs": [
    {
     "name": "stdout",
     "output_type": "stream",
     "text": [
      "The average age of abalone: 11.407930576737304\n",
      "The median age of abalone: 11.158493870402802\n",
      "The standard deviation of abalone age: 3.1861398656505457\n"
     ]
    }
   ],
   "source": [
    "# Numpy technique to find the mean, median and standard deviation\n",
    "print('The average age of abalone:', num_df['Age (y)'].mean())\n",
    "print('The median age of abalone:', num_df['Age (y)'].median())\n",
    "print('The standard deviation of abalone age:',num_df['Age (y)'].std())"
   ]
  },
  {
   "cell_type": "markdown",
   "id": "0a7392c2",
   "metadata": {},
   "source": [
    "*** Some findings: \n",
    "\n",
    "Wide Range in Physical Size\n",
    "\n",
    "For example, eight ranges from 0.002 g to 2.83 g, showing huge diversity.\n",
    "\n",
    "==> Suggests a mix of very young/small and large/mature abalones. "
   ]
  },
  {
   "cell_type": "markdown",
   "id": "c75645b4",
   "metadata": {},
   "source": [
    "Once again, we focus on numerical data:"
   ]
  },
  {
   "cell_type": "code",
   "execution_count": 29,
   "id": "dd2da09f",
   "metadata": {},
   "outputs": [
    {
     "name": "stdout",
     "output_type": "stream",
     "text": [
      "Display total unique values for those numerical data:\n"
     ]
    },
    {
     "data": {
      "application/vnd.microsoft.datawrangler.viewer.v0+json": {
       "columns": [
        {
         "name": "index",
         "rawType": "object",
         "type": "string"
        },
        {
         "name": "0",
         "rawType": "int64",
         "type": "integer"
        }
       ],
       "ref": "3dfc99a4-d273-40fd-98e0-aa7e0b905b29",
       "rows": [
        [
         "Length (mm)",
         "134"
        ],
        [
         "Diameter (mm)",
         "111"
        ],
        [
         "Height (mm)",
         "51"
        ],
        [
         "Whole weight (g)",
         "2361"
        ],
        [
         "Shucked weight (g)",
         "1491"
        ],
        [
         "Viscera weight (g)",
         "870"
        ],
        [
         "Shell weight (g)",
         "910"
        ],
        [
         "Rings",
         "28"
        ],
        [
         "Age (y)",
         "28"
        ]
       ],
       "shape": {
        "columns": 1,
        "rows": 9
       }
      },
      "text/plain": [
       "Length (mm)            134\n",
       "Diameter (mm)          111\n",
       "Height (mm)             51\n",
       "Whole weight (g)      2361\n",
       "Shucked weight (g)    1491\n",
       "Viscera weight (g)     870\n",
       "Shell weight (g)       910\n",
       "Rings                   28\n",
       "Age (y)                 28\n",
       "dtype: int64"
      ]
     },
     "metadata": {},
     "output_type": "display_data"
    }
   ],
   "source": [
    "#Seperating those numerical data and focusing on unique values in each column\n",
    "unique = num_df.nunique()\n",
    "print('Display total unique values for those numerical data:')\n",
    "display(unique)"
   ]
  },
  {
   "cell_type": "markdown",
   "id": "75a5bfad",
   "metadata": {},
   "source": [
    "### Key insight form Numerical features\n",
    "\n",
    "There are a total of 4041 entries after the data cleaning task across all features. Among these, we can see that the numerical values have a wide range of distinct values as shown in the table, indicating the diversity and richness in the measurement and collection of physical body data for the abalones.\n",
    "\n",
    "At the same time, it can be observed that \"rings\" and \"age\" have the same number of unique recorded values.\n",
    "\n",
    "`Futher analysis` during task 4 intergrated with task 3."
   ]
  },
  {
   "cell_type": "markdown",
   "id": "1bbf7c11",
   "metadata": {},
   "source": [
    "## TASK 4: Simple plot [10 marks]\n",
    "\n",
    "Write code to make a simple plot showing, for example, the relationship between two quantities in the data using a scatterplot, a time series using a lineplot, or the distribution of one or more parameters using a histogram plot. The description of each of the datasets includes some suggestions for relations you could use.\n",
    "\n",
    "Ensure that your plot:\n",
    "\n",
    "a.  Includes a legend (if there is more than one curve), and suitable axis labels indicating the quantity and any units.\n",
    "\n",
    "b.  Uses axis scales that are set to reliably reveal any trends in the data (you may need to scale the data and adjust the unit labels if that is required to make an attractive plot).\n",
    "\n",
    "c.  Is generally attractive with appropriate point size, line width and/or and colours.\n",
    "\n",
    "d.  Is accompanied by a short analysis (2-3 sentences) of what the plot reveals about your data."
   ]
  },
  {
   "cell_type": "markdown",
   "id": "80769afb",
   "metadata": {},
   "source": [
    "Pick up the key columns: Age, Whole weight, Shucked weight, Shell Weight"
   ]
  },
  {
   "cell_type": "code",
   "execution_count": 30,
   "id": "ccba415d",
   "metadata": {},
   "outputs": [
    {
     "data": {
      "image/png": "[encoded data removed]",
      "text/plain": [
       "<Figure size 1240x840 with 4 Axes>"
      ]
     },
     "metadata": {},
     "output_type": "display_data"
    }
   ],
   "source": [
    "# Define the list of columns to plot\n",
    "cols = [\n",
    "    'Height (mm)', 'Length (mm)', \n",
    "    'Shucked weight (g)', 'Whole weight (g)', \n",
    "    'Age (y)', 'Rings']\n",
    "\n",
    "# Set up the grid (2x2 for 4 columns)\n",
    "fig, axes = plt.subplots(2, 2, figsize=(12.4, 8.4))\n",
    "\n",
    "# Flatten the axes array for easy iteration\n",
    "axes = axes.flatten()\n",
    "\n",
    "\n",
    "# Plot each histogram\n",
    "for i, col in enumerate(main_cols):\n",
    "    axes[i].hist(\n",
    "        num_df[col], bins=30, \n",
    "        color='#0e6655', edgecolor='black', \n",
    "        alpha = 0.5, lw= 2)\n",
    "    axes[i].set_title(f'Histogram of {col}')\n",
    "    axes[i].set_xlabel(col)\n",
    "    axes[i].set_ylabel('Frequency')\n",
    "    \n",
    "\n",
    "plt.tight_layout()\n",
    "plt.show()\n"
   ]
  },
  {
   "cell_type": "code",
   "execution_count": 31,
   "id": "ebf2b5cd",
   "metadata": {},
   "outputs": [
    {
     "data": {
      "image/png": "[encoded data removed]",
      "text/plain": [
       "<Figure size 1240x840 with 4 Axes>"
      ]
     },
     "metadata": {},
     "output_type": "display_data"
    }
   ],
   "source": [
    "# Define the list of columns to plot\n",
    "cols = [\n",
    "    'Height (mm)', 'Length (mm)', \n",
    "    'Shucked weight (g)', 'Whole weight (g)', \n",
    "    'Age (y)', 'Rings']\n",
    "\n",
    "# Set up the grid (2x2 for 4 columns)\n",
    "fig, axes = plt.subplots(2, 2, figsize=(12.4, 8.4))\n",
    "\n",
    "# Flatten the axes array for easy iteration\n",
    "axes = axes.flatten()\n",
    "\n",
    "# Plot each histogram\n",
    "for i, col in enumerate(main_cols):\n",
    "    axes[i].boxplot(num_df[col])\n",
    "    axes[i].set_title(f'Box plot of {col}')\n",
    "    axes[i].set_xlabel(col)\n",
    "    axes[i].set_ylabel('Frequency')\n",
    "    \n",
    "\n",
    "plt.tight_layout()\n",
    "plt.show()"
   ]
  },
  {
   "cell_type": "markdown",
   "id": "07258577",
   "metadata": {},
   "source": [
    "## Height: \n",
    "\n",
    "**> Distributions: significantly right-skewed shapes**\n",
    "- Most of species in our sample are relatively short (small in sizes), while there are two species have longer height > 0.3mm (count as 2 species which have 1417 is 0.515mm and 2051 is 1.13mm (thelongest)) (there must be existing 2 outliers falling in left-hand side so that the x-axis is spreading like plot) => the apperance of two outliners show the potential data for rare large speciments. \n",
    "\n",
    "- The average height of abalone shells in our sample, depending on the species, are recorded as 0.139mm\n",
    "\n",
    "- Most of the abalone in the sample have a height ranging from <span style=\"color: #16a085\"> 0.1mm to 0.2mm </span>, with <span style=\"color: #16a085\">a total of 3,140 specimens recorded </span>\n",
    "\n",
    "- Notices that there are two species have <span style=\"color:rgb(7, 46, 38)\"> the minimum height at 0.0mm </span>>, means that, potential data entry errors or missing measurements => requires neccessarily further exploration. "
   ]
  },
  {
   "cell_type": "code",
   "execution_count": 32,
   "id": "a8a88bc3",
   "metadata": {},
   "outputs": [
    {
     "name": "stdout",
     "output_type": "stream",
     "text": [
      "Two species is longer than 0.3mm:\n"
     ]
    },
    {
     "data": {
      "application/vnd.microsoft.datawrangler.viewer.v0+json": {
       "columns": [
        {
         "name": "index",
         "rawType": "int64",
         "type": "integer"
        },
        {
         "name": "Length (mm)",
         "rawType": "float64",
         "type": "float"
        },
        {
         "name": "Diameter (mm)",
         "rawType": "float64",
         "type": "float"
        },
        {
         "name": "Height (mm)",
         "rawType": "float64",
         "type": "float"
        },
        {
         "name": "Whole weight (g)",
         "rawType": "float64",
         "type": "float"
        },
        {
         "name": "Shucked weight (g)",
         "rawType": "float64",
         "type": "float"
        },
        {
         "name": "Viscera weight (g)",
         "rawType": "float64",
         "type": "float"
        },
        {
         "name": "Shell weight (g)",
         "rawType": "float64",
         "type": "float"
        },
        {
         "name": "Rings",
         "rawType": "float64",
         "type": "float"
        },
        {
         "name": "Age (y)",
         "rawType": "float64",
         "type": "float"
        }
       ],
       "ref": "a918dd07-4caa-45fd-9668-6d96a8183a41",
       "rows": [
        [
         "1417",
         "0.705",
         "0.565",
         "0.515",
         "2.21",
         "1.1075",
         "0.4865",
         "0.512",
         "10.0",
         "11.5"
        ],
        [
         "2051",
         "0.455",
         "0.355",
         "1.13",
         "0.594",
         "0.332",
         "0.116",
         "0.1335",
         "8.0",
         "9.5"
        ]
       ],
       "shape": {
        "columns": 9,
        "rows": 2
       }
      },
      "text/html": [
       "<div>\n",
       "<style scoped>\n",
       "    .dataframe tbody tr th:only-of-type {\n",
       "        vertical-align: middle;\n",
       "    }\n",
       "\n",
       "    .dataframe tbody tr th {\n",
       "        vertical-align: top;\n",
       "    }\n",
       "\n",
       "    .dataframe thead th {\n",
       "        text-align: right;\n",
       "    }\n",
       "</style>\n",
       "<table border=\"1\" class=\"dataframe\">\n",
       "  <thead>\n",
       "    <tr style=\"text-align: right;\">\n",
       "      <th></th>\n",
       "      <th>Length (mm)</th>\n",
       "      <th>Diameter (mm)</th>\n",
       "      <th>Height (mm)</th>\n",
       "      <th>Whole weight (g)</th>\n",
       "      <th>Shucked weight (g)</th>\n",
       "      <th>Viscera weight (g)</th>\n",
       "      <th>Shell weight (g)</th>\n",
       "      <th>Rings</th>\n",
       "      <th>Age (y)</th>\n",
       "    </tr>\n",
       "  </thead>\n",
       "  <tbody>\n",
       "    <tr>\n",
       "      <th>1417</th>\n",
       "      <td>0.705</td>\n",
       "      <td>0.565</td>\n",
       "      <td>0.515</td>\n",
       "      <td>2.210</td>\n",
       "      <td>1.1075</td>\n",
       "      <td>0.4865</td>\n",
       "      <td>0.5120</td>\n",
       "      <td>10.0</td>\n",
       "      <td>11.5</td>\n",
       "    </tr>\n",
       "    <tr>\n",
       "      <th>2051</th>\n",
       "      <td>0.455</td>\n",
       "      <td>0.355</td>\n",
       "      <td>1.130</td>\n",
       "      <td>0.594</td>\n",
       "      <td>0.3320</td>\n",
       "      <td>0.1160</td>\n",
       "      <td>0.1335</td>\n",
       "      <td>8.0</td>\n",
       "      <td>9.5</td>\n",
       "    </tr>\n",
       "  </tbody>\n",
       "</table>\n",
       "</div>"
      ],
      "text/plain": [
       "      Length (mm)  Diameter (mm)  Height (mm)  Whole weight (g)  \\\n",
       "1417        0.705          0.565        0.515             2.210   \n",
       "2051        0.455          0.355        1.130             0.594   \n",
       "\n",
       "      Shucked weight (g)  Viscera weight (g)  Shell weight (g)  Rings  Age (y)  \n",
       "1417              1.1075              0.4865            0.5120   10.0     11.5  \n",
       "2051              0.3320              0.1160            0.1335    8.0      9.5  "
      ]
     },
     "metadata": {},
     "output_type": "display_data"
    },
    {
     "name": "stdout",
     "output_type": "stream",
     "text": [
      "Two species cannot find height\n"
     ]
    },
    {
     "data": {
      "application/vnd.microsoft.datawrangler.viewer.v0+json": {
       "columns": [
        {
         "name": "index",
         "rawType": "int64",
         "type": "integer"
        },
        {
         "name": "Length (mm)",
         "rawType": "float64",
         "type": "float"
        },
        {
         "name": "Diameter (mm)",
         "rawType": "float64",
         "type": "float"
        },
        {
         "name": "Height (mm)",
         "rawType": "float64",
         "type": "float"
        },
        {
         "name": "Whole weight (g)",
         "rawType": "float64",
         "type": "float"
        },
        {
         "name": "Shucked weight (g)",
         "rawType": "float64",
         "type": "float"
        },
        {
         "name": "Viscera weight (g)",
         "rawType": "float64",
         "type": "float"
        },
        {
         "name": "Shell weight (g)",
         "rawType": "float64",
         "type": "float"
        },
        {
         "name": "Rings",
         "rawType": "float64",
         "type": "float"
        },
        {
         "name": "Age (y)",
         "rawType": "float64",
         "type": "float"
        }
       ],
       "ref": "ccd0bdfe-8215-4a64-b006-65ad5e3f9cca",
       "rows": [
        [
         "1417",
         "0.705",
         "0.565",
         "0.515",
         "2.21",
         "1.1075",
         "0.4865",
         "0.512",
         "10.0",
         "11.5"
        ],
        [
         "2051",
         "0.455",
         "0.355",
         "1.13",
         "0.594",
         "0.332",
         "0.116",
         "0.1335",
         "8.0",
         "9.5"
        ]
       ],
       "shape": {
        "columns": 9,
        "rows": 2
       }
      },
      "text/html": [
       "<div>\n",
       "<style scoped>\n",
       "    .dataframe tbody tr th:only-of-type {\n",
       "        vertical-align: middle;\n",
       "    }\n",
       "\n",
       "    .dataframe tbody tr th {\n",
       "        vertical-align: top;\n",
       "    }\n",
       "\n",
       "    .dataframe thead th {\n",
       "        text-align: right;\n",
       "    }\n",
       "</style>\n",
       "<table border=\"1\" class=\"dataframe\">\n",
       "  <thead>\n",
       "    <tr style=\"text-align: right;\">\n",
       "      <th></th>\n",
       "      <th>Length (mm)</th>\n",
       "      <th>Diameter (mm)</th>\n",
       "      <th>Height (mm)</th>\n",
       "      <th>Whole weight (g)</th>\n",
       "      <th>Shucked weight (g)</th>\n",
       "      <th>Viscera weight (g)</th>\n",
       "      <th>Shell weight (g)</th>\n",
       "      <th>Rings</th>\n",
       "      <th>Age (y)</th>\n",
       "    </tr>\n",
       "  </thead>\n",
       "  <tbody>\n",
       "    <tr>\n",
       "      <th>1417</th>\n",
       "      <td>0.705</td>\n",
       "      <td>0.565</td>\n",
       "      <td>0.515</td>\n",
       "      <td>2.210</td>\n",
       "      <td>1.1075</td>\n",
       "      <td>0.4865</td>\n",
       "      <td>0.5120</td>\n",
       "      <td>10.0</td>\n",
       "      <td>11.5</td>\n",
       "    </tr>\n",
       "    <tr>\n",
       "      <th>2051</th>\n",
       "      <td>0.455</td>\n",
       "      <td>0.355</td>\n",
       "      <td>1.130</td>\n",
       "      <td>0.594</td>\n",
       "      <td>0.3320</td>\n",
       "      <td>0.1160</td>\n",
       "      <td>0.1335</td>\n",
       "      <td>8.0</td>\n",
       "      <td>9.5</td>\n",
       "    </tr>\n",
       "  </tbody>\n",
       "</table>\n",
       "</div>"
      ],
      "text/plain": [
       "      Length (mm)  Diameter (mm)  Height (mm)  Whole weight (g)  \\\n",
       "1417        0.705          0.565        0.515             2.210   \n",
       "2051        0.455          0.355        1.130             0.594   \n",
       "\n",
       "      Shucked weight (g)  Viscera weight (g)  Shell weight (g)  Rings  Age (y)  \n",
       "1417              1.1075              0.4865            0.5120   10.0     11.5  \n",
       "2051              0.3320              0.1160            0.1335    8.0      9.5  "
      ]
     },
     "metadata": {},
     "output_type": "display_data"
    }
   ],
   "source": [
    "# Two species are longer than 0.3mm\n",
    "Long_species = num_df[num_df['Height (mm)'] > 0.3]\n",
    "print('Two species is longer than 0.3mm:')\n",
    "display(Long_species)\n",
    "\n",
    "# Number of non-height hidden species that are recored 0.0mm in length\n",
    "Missing_height = num_df[num_df['Height (mm)'] == 0.0]\n",
    "print('Two species cannot find height')\n",
    "display(Long_species)"
   ]
  },
  {
   "cell_type": "markdown",
   "id": "dc1993d6",
   "metadata": {},
   "source": [
    "## Whole weight\n",
    "\n",
    "> Shape: moderately right-skewed distribution.\n",
    "\n",
    "- Mean is approximately equal with median, recording 0.827 and 0.828 respectively, which indicating that the distribution of total weight is slightly positive skewed\n",
    " \n",
    "- The IQR indicates that most surveyed abalones overall weigh between <span style=\"color: #138d75 \"> 0.4g to 1.2g </span>\n",
    "\n",
    "- Few outliers have significantly total weight greater than 2.0grams, peaking up to 2.8255 grams. \n"
   ]
  },
  {
   "cell_type": "code",
   "execution_count": 33,
   "id": "5a3ff1a6",
   "metadata": {},
   "outputs": [
    {
     "data": {
      "text/plain": [
       "np.float64(2.8255)"
      ]
     },
     "execution_count": 33,
     "metadata": {},
     "output_type": "execute_result"
    }
   ],
   "source": [
    "num_df['Whole weight (g)'].max()"
   ]
  },
  {
   "cell_type": "markdown",
   "id": "43c5a61c",
   "metadata": {},
   "source": [
    "## Age: \n",
    "\n",
    "Shape: <span style=\"color:rgb(14, 60, 51) \"> Right-skewed distribution </span>, few outliers on the right hand side, meaning that there are much more young abalone than the older ones. "
   ]
  },
  {
   "cell_type": "markdown",
   "id": "d427e678",
   "metadata": {},
   "source": [
    "**Key findings**\n",
    "\n",
    "- Most of physical feature of the sureveyed abalone (Heigth, Weight, Length,) are witnessed <span style= 'color: lightseagreen'> right-skewed </span>, highlighting the attraction of smaller and lighter child abalones compared to fewer larger sample species. "
   ]
  },
  {
   "cell_type": "markdown",
   "id": "e566824c",
   "metadata": {},
   "source": [
    "<span style= \"color: tan\"> Age versus Ring </span> \n",
    "\n",
    "The same patterns in histogram are witnessed in the distribution of `age` and `rings` seems reasonable as people usually calculate abalones age's using their shell ring. \n"
   ]
  },
  {
   "cell_type": "code",
   "execution_count": 34,
   "id": "f839ef72",
   "metadata": {},
   "outputs": [
    {
     "data": {
      "application/vnd.microsoft.datawrangler.viewer.v0+json": {
       "columns": [
        {
         "name": "index",
         "rawType": "int64",
         "type": "integer"
        },
        {
         "name": "Age (y)",
         "rawType": "float64",
         "type": "float"
        },
        {
         "name": "Rings",
         "rawType": "float64",
         "type": "float"
        },
        {
         "name": "Whole weight (g)",
         "rawType": "float64",
         "type": "float"
        }
       ],
       "ref": "5597c291-994b-4134-8dae-3a879aaf2478",
       "rows": [
        [
         "236",
         "2.5",
         "1.0",
         "0.002"
        ],
        [
         "719",
         "3.5",
         "2.0",
         "0.015"
        ],
        [
         "2711",
         "4.5",
         "3.0",
         "0.0315"
        ],
        [
         "720",
         "4.5",
         "3.0",
         "0.018"
        ],
        [
         "3801",
         "4.5",
         "3.0",
         "0.0495"
        ],
        [
         "1429",
         "4.5",
         "3.0",
         "0.014"
        ],
        [
         "306",
         "4.5",
         "3.0",
         "0.0215"
        ],
        [
         "237",
         "4.5",
         "3.0",
         "0.013"
        ],
        [
         "2371",
         "4.5",
         "3.0",
         "0.023"
        ],
        [
         "238",
         "4.5",
         "3.0",
         "0.008"
        ],
        [
         "2115",
         "4.5",
         "3.0",
         "0.0275"
        ],
        [
         "1054",
         "4.5",
         "3.0",
         "0.0375"
        ],
        [
         "3472",
         "4.5",
         "3.0",
         "0.021"
        ],
        [
         "894",
         "4.5",
         "3.0",
         "0.0665"
        ],
        [
         "526",
         "4.5",
         "3.0",
         "0.0155"
        ],
        [
         "520",
         "4.5",
         "3.0",
         "0.0385"
        ],
        [
         "3521",
         "4.5",
         "3.0",
         "0.041"
        ],
        [
         "611",
         "5.5",
         "4.0",
         "0.032"
        ],
        [
         "718",
         "5.5",
         "4.0",
         "0.0265"
        ],
        [
         "696",
         "5.5",
         "4.0",
         "0.0175"
        ],
        [
         "3523",
         "5.5",
         "4.0",
         "0.097"
        ],
        [
         "3522",
         "5.5",
         "9.733866933466734",
         "0.0655"
        ],
        [
         "2114",
         "5.5",
         "4.0",
         "0.0105"
        ],
        [
         "3994",
         "5.5",
         "4.0",
         "0.032"
        ],
        [
         "58",
         "5.5",
         "4.0",
         "0.086"
        ],
        [
         "3906",
         "5.5",
         "4.0",
         "0.0635"
        ],
        [
         "896",
         "5.5",
         "4.0",
         "0.083"
        ],
        [
         "524",
         "5.5",
         "4.0",
         "0.0545"
        ],
        [
         "3428",
         "5.5",
         "4.0",
         "0.0805"
        ],
        [
         "2548",
         "5.5",
         "4.0",
         "0.0875"
        ],
        [
         "2169",
         "5.5",
         "4.0",
         "0.0145"
        ],
        [
         "2546",
         "5.5",
         "4.0",
         "0.0565"
        ],
        [
         "321",
         "5.5",
         "4.0",
         "0.038"
        ],
        [
         "4119",
         "5.5",
         "4.0",
         "0.1185"
        ],
        [
         "525",
         "5.5",
         "4.0",
         "0.024"
        ],
        [
         "2545",
         "5.5",
         "4.0",
         "0.04"
        ],
        [
         "149",
         "5.5",
         "4.0",
         "0.03"
        ],
        [
         "263",
         "5.5",
         "4.0",
         "0.095"
        ],
        [
         "1430",
         "5.5",
         "4.0",
         "0.0515"
        ],
        [
         "3600",
         "5.5",
         "4.0",
         "0.028"
        ],
        [
         "2626",
         "5.5",
         "4.0",
         "0.049"
        ],
        [
         "898",
         "5.5",
         "4.0",
         "0.117"
        ],
        [
         "518",
         "5.5",
         "4.0",
         "0.147"
        ],
        [
         "178",
         "5.5",
         "4.0",
         "0.0465"
        ],
        [
         "44",
         "5.5",
         "4.0",
         "0.042"
        ],
        [
         "3318",
         "5.5",
         "4.0",
         "0.0245"
        ],
        [
         "900",
         "5.5",
         "4.0",
         "0.8082634140254554"
        ],
        [
         "2458",
         "5.5",
         "4.0",
         "0.036"
        ],
        [
         "3009",
         "5.5",
         "4.0",
         "0.074"
        ],
        [
         "3963",
         "5.5",
         "4.0",
         "0.118"
        ]
       ],
       "shape": {
        "columns": 3,
        "rows": 4041
       }
      },
      "text/html": [
       "<div>\n",
       "<style scoped>\n",
       "    .dataframe tbody tr th:only-of-type {\n",
       "        vertical-align: middle;\n",
       "    }\n",
       "\n",
       "    .dataframe tbody tr th {\n",
       "        vertical-align: top;\n",
       "    }\n",
       "\n",
       "    .dataframe thead th {\n",
       "        text-align: right;\n",
       "    }\n",
       "</style>\n",
       "<table border=\"1\" class=\"dataframe\">\n",
       "  <thead>\n",
       "    <tr style=\"text-align: right;\">\n",
       "      <th></th>\n",
       "      <th>Age (y)</th>\n",
       "      <th>Rings</th>\n",
       "      <th>Whole weight (g)</th>\n",
       "    </tr>\n",
       "  </thead>\n",
       "  <tbody>\n",
       "    <tr>\n",
       "      <th>236</th>\n",
       "      <td>2.5</td>\n",
       "      <td>1.0</td>\n",
       "      <td>0.0020</td>\n",
       "    </tr>\n",
       "    <tr>\n",
       "      <th>719</th>\n",
       "      <td>3.5</td>\n",
       "      <td>2.0</td>\n",
       "      <td>0.0150</td>\n",
       "    </tr>\n",
       "    <tr>\n",
       "      <th>2711</th>\n",
       "      <td>4.5</td>\n",
       "      <td>3.0</td>\n",
       "      <td>0.0315</td>\n",
       "    </tr>\n",
       "    <tr>\n",
       "      <th>720</th>\n",
       "      <td>4.5</td>\n",
       "      <td>3.0</td>\n",
       "      <td>0.0180</td>\n",
       "    </tr>\n",
       "    <tr>\n",
       "      <th>3801</th>\n",
       "      <td>4.5</td>\n",
       "      <td>3.0</td>\n",
       "      <td>0.0495</td>\n",
       "    </tr>\n",
       "    <tr>\n",
       "      <th>...</th>\n",
       "      <td>...</td>\n",
       "      <td>...</td>\n",
       "      <td>...</td>\n",
       "    </tr>\n",
       "    <tr>\n",
       "      <th>3149</th>\n",
       "      <td>25.5</td>\n",
       "      <td>24.0</td>\n",
       "      <td>1.9780</td>\n",
       "    </tr>\n",
       "    <tr>\n",
       "      <th>2201</th>\n",
       "      <td>26.5</td>\n",
       "      <td>25.0</td>\n",
       "      <td>1.4060</td>\n",
       "    </tr>\n",
       "    <tr>\n",
       "      <th>294</th>\n",
       "      <td>27.5</td>\n",
       "      <td>26.0</td>\n",
       "      <td>1.0575</td>\n",
       "    </tr>\n",
       "    <tr>\n",
       "      <th>2209</th>\n",
       "      <td>28.5</td>\n",
       "      <td>27.0</td>\n",
       "      <td>1.2125</td>\n",
       "    </tr>\n",
       "    <tr>\n",
       "      <th>2108</th>\n",
       "      <td>28.5</td>\n",
       "      <td>27.0</td>\n",
       "      <td>2.1835</td>\n",
       "    </tr>\n",
       "  </tbody>\n",
       "</table>\n",
       "<p>4041 rows × 3 columns</p>\n",
       "</div>"
      ],
      "text/plain": [
       "      Age (y)  Rings  Whole weight (g)\n",
       "236       2.5    1.0            0.0020\n",
       "719       3.5    2.0            0.0150\n",
       "2711      4.5    3.0            0.0315\n",
       "720       4.5    3.0            0.0180\n",
       "3801      4.5    3.0            0.0495\n",
       "...       ...    ...               ...\n",
       "3149     25.5   24.0            1.9780\n",
       "2201     26.5   25.0            1.4060\n",
       "294      27.5   26.0            1.0575\n",
       "2209     28.5   27.0            1.2125\n",
       "2108     28.5   27.0            2.1835\n",
       "\n",
       "[4041 rows x 3 columns]"
      ]
     },
     "execution_count": 34,
     "metadata": {},
     "output_type": "execute_result"
    }
   ],
   "source": [
    "num_df.sort_values(by= 'Age (y)', inplace=True)\n",
    "num_df[['Age (y)', 'Rings','Whole weight (g)']]"
   ]
  },
  {
   "cell_type": "markdown",
   "id": "a6fc7f7a",
   "metadata": {},
   "source": [
    "Extracting from two column Age Rings, We can see that the variable 'Age' in this dataset has a certain correlation with the variable 'Rings', following a linear trend: \n",
    "\n",
    "`age = rings + 1.5`\n",
    "\n",
    "<span style=\"color: #138d75 \">  That’s also why the plots generated from Age and Rings tend to show nearly identical patterns. </span>"
   ]
  },
  {
   "cell_type": "markdown",
   "id": "3096f965",
   "metadata": {},
   "source": [
    "**There is clearly a distinct pattern between rings and age — it’s evident that the more rings there are, the higher the age tends to be (which makes sense as it follows the linear equation mentioned above).**"
   ]
  },
  {
   "cell_type": "code",
   "execution_count": 35,
   "id": "abd804e1",
   "metadata": {},
   "outputs": [
    {
     "data": {
      "image/png": "[encoded data removed]",
      "text/plain": [
       "<Figure size 1000x600 with 2 Axes>"
      ]
     },
     "metadata": {},
     "output_type": "display_data"
    }
   ],
   "source": [
    "# plotting the scatter plot for rings and age \n",
    "plt.figure(figsize= (10,6))\n",
    "plt.scatter(\n",
    "    num_df['Rings'],num_df['Age (y)'],\n",
    "    c= num_df['Whole weight (g)'], s= 50, \n",
    "    cmap= 'BrBG', marker = '^', \n",
    "    alpha= 0.3, label='Whole weight')\n",
    "plt.xlabel('Rings')\n",
    "plt.ylabel('Age (y)')\n",
    "plt.colorbar(label='Whole weight (grams)')\n",
    "plt.legend()\n",
    "plt.title('Correlation between Rings and Age (y) mapping by Whole weight', color= '#0b5345')\n",
    "plt.show()"
   ]
  },
  {
   "cell_type": "markdown",
   "id": "c21a46f0",
   "metadata": {},
   "source": [
    "# Ring analysis"
   ]
  },
  {
   "cell_type": "code",
   "execution_count": 36,
   "id": "435dee42",
   "metadata": {},
   "outputs": [
    {
     "data": {
      "image/png": "[encoded data removed]",
      "text/plain": [
       "<Figure size 1200x600 with 2 Axes>"
      ]
     },
     "metadata": {},
     "output_type": "display_data"
    }
   ],
   "source": [
    "# creating sublots for rings\n",
    "plt.figure(figsize= (12,6))\n",
    "\n",
    "# histogram for rings in the first grid\n",
    "plt.subplot(1,2,1)\n",
    "plt.hist(\n",
    "    num_df['Rings'], edgecolor= 'black', \n",
    "    bins = 25, lw= 2, alpha = 0.7, \n",
    "    color= '#a2d9ce')\n",
    "plt.title('Histogram of Rings')\n",
    "plt.xlabel('Rings')\n",
    "plt.ylabel('Frequency')\n",
    "\n",
    "# box plot for ring in the second grid\n",
    "plt.subplot(1,2,2)\n",
    "plt.boxplot(num_df['Rings'])\n",
    "plt.title('Box plot for Rings')\n",
    "plt.xlabel('Rings')\n",
    "\n",
    "plt.tight_layout()\n",
    "plt.show()"
   ]
  },
  {
   "cell_type": "markdown",
   "id": "afdcc065",
   "metadata": {},
   "source": [
    "- the most frequence observed around <span style=\"color: #138d75 \">  8-10 rings </span>, concluding that this might be the most common age group. \n",
    "\n",
    "- The median also witnessed the same data for the number of rings appears to be around <span style=\"color: #138d75 \">  9-10 rings </span> \n",
    "\n",
    "- The box plot support the evidience that most of data concentrated on the left-hand side while several outliers exist on the right side, and <span style=\"color:rgb(201, 59, 16) \">  there is a significantly decline in the number of abalone as the rings increased </span>"
   ]
  },
  {
   "cell_type": "markdown",
   "id": "87090f2e",
   "metadata": {},
   "source": [
    "# TASK 5: Multi-variable plot [10 marks]\n",
    "Considering the set of variables in your dataset, select 3 or 4 variables to explore their relationship in a plot that combines multi-variable plot techniques (for example, scatter dot size and/or colour as well as position)\n",
    "\n",
    "a. Your plot should be included in the report.pdf and:\n",
    "\n",
    "i. Include a legend (if there is more than one curve/colour etc.), and suitable axis labels indicating the quantity and any units\n",
    "\n",
    "ii. Uses axis scales that are set to reliably reveal any trends in the data (you may need to scale the data and adjust the unit labels if that is required to make an attractive plot)\n",
    "\n",
    "iii. Be generally attractive with appropriate point size, line width and/or and colours.\n",
    "\n",
    "b. Your report.pdf should include a paragraph explaining what kind of potential relationships you are choosing to investigate. Add this in a section called “Multi-variable plot part b”\n",
    "\n",
    "c. Your report.pdf contains a short analysis (2-3 sentences) of what the plot reveals about your data and draw conclusions from your plot. Add this in a section called “Multi-variable plot part c”"
   ]
  },
  {
   "cell_type": "markdown",
   "id": "79a243f9",
   "metadata": {},
   "source": [
    "### GOALS: DISTRIBUTION OF AGE BY SEX "
   ]
  },
  {
   "cell_type": "code",
   "execution_count": 37,
   "id": "000f0e22",
   "metadata": {},
   "outputs": [
    {
     "name": "stdout",
     "output_type": "stream",
     "text": [
      "3 subtegories gender of abalone: MFI\n"
     ]
    },
    {
     "data": {
      "image/png": "[encoded data removed]",
      "text/plain": [
       "<Figure size 1000x600 with 1 Axes>"
      ]
     },
     "metadata": {},
     "output_type": "display_data"
    }
   ],
   "source": [
    "# Take a look at distinct sex \n",
    "print('3 subtegories gender of abalone:',marine_df['Sex'].unique().sum())\n",
    "\n",
    "\n",
    "#Filter age by sex\n",
    "M_ages = marine_df[marine_df['Sex'] == 'M']['Age (y)']\n",
    "F_ages = marine_df[marine_df['Sex'] == 'F']['Age (y)']\n",
    "I_ages = marine_df[marine_df['Sex'] == 'I']['Age (y)']\n",
    "\n",
    "# Ploting \n",
    "plt.figure(figsize=(10, 6))\n",
    "plt.hist(M_ages, bins= 10, alpha=0.6, label='Male', color= 'darkslategrey', edgecolor='black')\n",
    "plt.hist(F_ages, bins= 10, alpha=0.7, label='Female',color= 'teal', edgecolor='black')\n",
    "plt.hist(I_ages, bins= 10, alpha=0.8, label='Infant',color= 'lightcyan', edgecolor='black')\n",
    "plt.title('Age Distribution by Sex', size= 20, color= 'darkslategrey')\n",
    "plt.xlabel('Age')\n",
    "plt.ylabel('Frequency')\n",
    "plt.legend(fontsize= 15)\n",
    "plt.tight_layout()\n",
    "plt.show()"
   ]
  },
  {
   "cell_type": "markdown",
   "id": "066eca95",
   "metadata": {},
   "source": [
    "KEY FINDINGL: \n",
    "\n",
    "\n",
    "- The distribution for all gender peak between age 9-11, indicating that the target age for commercial abalone seems to fall in this range.\n",
    "\n",
    "- Infants (showed image) is likely to be the majority in the younger age range from  4-9.\n",
    "\n",
    "- Males (dark gray) and females (teal) peak slightly later (10–13).\n",
    "\n",
    "- After age 13:\n",
    "\n",
    ">> Female frequency appears more evenly spread out than male.\n",
    "\n",
    ">> Females tend to have greater longevity or are sampled across a broader age span.\n",
    "\n",
    "- All groups decrease in the number of abalone from 15 onward. \n",
    "\n"
   ]
  },
  {
   "cell_type": "markdown",
   "id": "b35417ea",
   "metadata": {},
   "source": [
    "### TASK 6: Extension task [10 marks]\n",
    "Extend the analysis of your previous investigation to incorporate the use of an untaught part of a library that we have discussed in class, which demonstrates further mastery and understanding of the library.\n",
    "\n",
    "For example, you might apply a new statistical technique or use a type of plot that we have not discussed previously.\n",
    "\n",
    "a. Write the code demonstrating the additional feature(s).\n",
    "\n",
    "b. Your report.pdf should include an explanation of why your approach adds value to the analysis and what further insights it reveals about the data.\n",
    "\n",
    "c. Your report.pdf should include a description of how your analysis goes beyond what was taught in class.\n"
   ]
  },
  {
   "cell_type": "markdown",
   "id": "99ef3032",
   "metadata": {},
   "source": [
    "### Goal: FIND OUT THE `Features of abalone` GROUP BY `3 DISTINCT GROUP OF GENDER`"
   ]
  },
  {
   "cell_type": "code",
   "execution_count": 38,
   "id": "6ec8d607",
   "metadata": {},
   "outputs": [
    {
     "data": {
      "text/plain": [
       "Index(['Sex', 'Length (mm)', 'Diameter (mm)', 'Height (mm)',\n",
       "       'Whole weight (g)', 'Shucked weight (g)', 'Viscera weight (g)',\n",
       "       'Shell weight (g)', 'Rings', 'Age (y)'],\n",
       "      dtype='object')"
      ]
     },
     "execution_count": 38,
     "metadata": {},
     "output_type": "execute_result"
    }
   ],
   "source": [
    "marine_df.columns"
   ]
  },
  {
   "cell_type": "code",
   "execution_count": 39,
   "id": "8daf43aa",
   "metadata": {},
   "outputs": [],
   "source": [
    "xyz = marine_df.groupby('Sex').mean().reset_index()\n"
   ]
  },
  {
   "cell_type": "code",
   "execution_count": 40,
   "id": "53386d2c",
   "metadata": {},
   "outputs": [
    {
     "data": {
      "text/plain": [
       "MultiIndex([(                'Sex',      ''),\n",
       "            (            'Age (y)', 'count'),\n",
       "            (            'Age (y)',  'mean'),\n",
       "            (   'Whole weight (g)', 'count'),\n",
       "            (   'Whole weight (g)',  'mean'),\n",
       "            ('Relative percentage',      '')],\n",
       "           )"
      ]
     },
     "execution_count": 40,
     "metadata": {},
     "output_type": "execute_result"
    }
   ],
   "source": [
    "# seperating each group gender\n",
    "gender_group = marine_df.groupby('Sex')[['Age (y)', 'Whole weight (g)']].agg(['count','mean']).reset_index()\n",
    "\n",
    "\n",
    "# rename column for clarifying\n",
    "\n",
    "\n",
    "# Calculate the Relative percentage by creating new column 'Relative percentag3e for df\n",
    "gender_group['Relative percentage'] = gender_group['Age (y)', 'count']/ gender_group['Age (y)', 'count'].sum() *100\n",
    "gender_group.columns\n"
   ]
  },
  {
   "cell_type": "code",
   "execution_count": null,
   "id": "c5ae6a17",
   "metadata": {},
   "outputs": [
    {
     "ename": "NameError",
     "evalue": "name 'gender_df' is not defined",
     "output_type": "error",
     "traceback": [
      "\u001b[31m---------------------------------------------------------------------------\u001b[39m",
      "\u001b[31mNameError\u001b[39m                                 Traceback (most recent call last)",
      "\u001b[36mCell\u001b[39m\u001b[36m \u001b[39m\u001b[32mIn[41]\u001b[39m\u001b[32m, line 1\u001b[39m\n\u001b[32m----> \u001b[39m\u001b[32m1\u001b[39m \u001b[43mgender_df\u001b[49m.columns\n",
      "\u001b[31mNameError\u001b[39m: name 'gender_df' is not defined"
     ]
    }
   ],
   "source": [
    "# gender_df.columns"
   ]
  },
  {
   "cell_type": "code",
   "execution_count": null,
   "id": "059b1b17",
   "metadata": {},
   "outputs": [
    {
     "name": "stderr",
     "output_type": "stream",
     "text": [
      "/var/folders/fs/vpv7t9012wxdx__nwt82lmpm0000gn/T/ipykernel_69160/1349285545.py:9: UserWarning: No artists with labels found to put in legend.  Note that artists whose label start with an underscore are ignored when legend() is called with no argument.\n",
      "  plt.legend()\n"
     ]
    },
    {
     "data": {
      "image/png": "[encoded data removed]",
      "text/plain": [
       "<Figure size 1200x800 with 1 Axes>"
      ]
     },
     "metadata": {},
     "output_type": "display_data"
    }
   ],
   "source": [
    "#Plot bar chart of counts from matplotlib\n",
    "plt.figure(figsize=(12,8))\n",
    "plt.bar(\n",
    "    gender_group['Sex',''], gender_group['Age (y)', 'count'], \n",
    "    color=['#d0ece7','#73c6b6','#117a65'], \n",
    "    alpha= 0.5, edgecolor= 'black')\n",
    "plt.xlabel('Sex', color= 'r')\n",
    "plt.ylabel('Count of sex', color= 'b')\n",
    "plt.legend()\n",
    "plt.title('Count abalone by sex')\n",
    "plt.show()\n"
   ]
  }
 ],
 "metadata": {
  "kernelspec": {
   "display_name": "Python 3",
   "language": "python",
   "name": "python3"
  },
  "language_info": {
   "codemirror_mode": {
    "name": "ipython",
    "version": 3
   },
   "file_extension": ".py",
   "mimetype": "text/x-python",
   "name": "python",
   "nbconvert_exporter": "python",
   "pygments_lexer": "ipython3",
   "version": "3.13.0"
  }
 },
 "nbformat": 4,
 "nbformat_minor": 5
}
